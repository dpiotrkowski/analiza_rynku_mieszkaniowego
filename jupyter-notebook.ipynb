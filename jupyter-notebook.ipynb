{
 "cells": [
  {
   "cell_type": "markdown",
   "metadata": {
    "id": "zaxUDtlQXioj"
   },
   "source": [
    "### Wykorzystane biblioteki"
   ]
  },
  {
   "cell_type": "code",
   "execution_count": 31,
   "metadata": {
    "executionInfo": {
     "elapsed": 23,
     "status": "ok",
     "timestamp": 1739098674229,
     "user": {
      "displayName": "Dawid Piotrkowski",
      "userId": "09085663674484212221"
     },
     "user_tz": -60
    },
    "id": "JJzcpzyt3Irm"
   },
   "outputs": [],
   "source": [
    "import numpy as np\n",
    "import pandas as pd\n",
    "import geopandas as gpd\n",
    "from matplotlib import pyplot as plt"
   ]
  },
  {
   "cell_type": "markdown",
   "metadata": {
    "id": "27z0NFE7XtLE"
   },
   "source": [
    "W dalszej części zostanie jeszcze wykorzystana funkcja `Point` z biblioteki `shapely`."
   ]
  },
  {
   "cell_type": "markdown",
   "metadata": {
    "id": "ClhnPMzFXp_K"
   },
   "source": [
    "### 📥 Import danych"
   ]
  },
  {
   "cell_type": "markdown",
   "metadata": {
    "id": "4reritiQ3Irr"
   },
   "source": [
    " **Import danych**. Wykorzystaliśmy dokumentację biblioteki `pandas` https://pandas.pydata.org/docs/reference/api/pandas.read_csv.html\n",
    " Natknęliśmy się na problem formatowania polskich znaków, co zniwelowaliśmy za pomocą `encoding_errors='ignore'`."
   ]
  },
  {
   "cell_type": "code",
   "execution_count": 2,
   "metadata": {
    "executionInfo": {
     "elapsed": 38,
     "status": "ok",
     "timestamp": 1739098674293,
     "user": {
      "displayName": "Dawid Piotrkowski",
      "userId": "09085663674484212221"
     },
     "user_tz": -60
    },
    "id": "oqdlxlBs3Irt"
   },
   "outputs": [],
   "source": [
    "dane_mieszkania = pd.read_csv('dane/Houses.csv', encoding='utf-8', encoding_errors='ignore')"
   ]
  },
  {
   "cell_type": "markdown",
   "metadata": {
    "id": "Ky_7zPj4X-RE"
   },
   "source": [
    "### 📋 Opis danych"
   ]
  },
  {
   "cell_type": "markdown",
   "metadata": {
    "id": "PthjeSgp3Iru"
   },
   "source": [
    "`dane_mieszkania`: https://www.kaggle.com/datasets/krzysztofjamroz/apartment-prices-in-poland/data informacje o cenach mieszkań, metrażu, lokalizacjach, wieku budynków."
   ]
  },
  {
   "cell_type": "code",
   "execution_count": 3,
   "metadata": {
    "colab": {
     "base_uri": "https://localhost:8080/"
    },
    "executionInfo": {
     "elapsed": 77,
     "status": "ok",
     "timestamp": 1739100261193,
     "user": {
      "displayName": "Dawid Piotrkowski",
      "userId": "09085663674484212221"
     },
     "user_tz": -60
    },
    "id": "4LJRgsrrc9CI",
    "outputId": "1dd41758-ab77-4a0e-ba2e-97e788286180"
   },
   "outputs": [
    {
     "name": "stdout",
     "output_type": "stream",
     "text": [
      "Rozmiar bazy danych (wiersze, kolumny): (23764, 11)\n"
     ]
    }
   ],
   "source": [
    "print(\"Rozmiar bazy danych (wiersze, kolumny):\", dane_mieszkania.shape)"
   ]
  },
  {
   "cell_type": "code",
   "execution_count": 4,
   "metadata": {
    "colab": {
     "base_uri": "https://localhost:8080/"
    },
    "executionInfo": {
     "elapsed": 98,
     "status": "ok",
     "timestamp": 1739100312957,
     "user": {
      "displayName": "Dawid Piotrkowski",
      "userId": "09085663674484212221"
     },
     "user_tz": -60
    },
    "id": "83Q3K0V3dJs2",
    "outputId": "44292447-6897-44be-da93-e221d3fb82bc"
   },
   "outputs": [
    {
     "name": "stdout",
     "output_type": "stream",
     "text": [
      "Nazwy kolumn i typy zmiennych: Unnamed: 0      int64\n",
      "address        object\n",
      "city           object\n",
      "floor         float64\n",
      "id            float64\n",
      "latitude      float64\n",
      "longitude     float64\n",
      "price         float64\n",
      "rooms         float64\n",
      "sq            float64\n",
      "year          float64\n",
      "dtype: object\n"
     ]
    }
   ],
   "source": [
    "print(\"Nazwy kolumn i typy zmiennych:\", dane_mieszkania.dtypes)"
   ]
  },
  {
   "cell_type": "code",
   "execution_count": 5,
   "metadata": {
    "colab": {
     "base_uri": "https://localhost:8080/"
    },
    "executionInfo": {
     "elapsed": 135,
     "status": "ok",
     "timestamp": 1739100440249,
     "user": {
      "displayName": "Dawid Piotrkowski",
      "userId": "09085663674484212221"
     },
     "user_tz": -60
    },
    "id": "1Fr3tzokdhzb",
    "outputId": "e968a59a-923f-4fc2-e454-02e9ab0a7a36"
   },
   "outputs": [
    {
     "name": "stdout",
     "output_type": "stream",
     "text": [
      "Podstawowe statystyki:\n",
      "         Unnamed: 0         floor            id      latitude     longitude  \\\n",
      "count  23764.000000  23764.000000  23764.000000  23764.000000  23764.000000   \n",
      "mean   11881.500000      2.808744  15621.964484     51.374874     19.861773   \n",
      "std     6860.220235      2.463467   8617.293898      1.099836      1.447186   \n",
      "min        0.000000      0.000000      1.000000     49.933056      4.204796   \n",
      "25%     5940.750000      1.000000   8420.750000     50.066489     19.916563   \n",
      "50%    11881.500000      2.000000  15637.500000     52.193987     19.999330   \n",
      "75%    17822.250000      4.000000  23111.250000     52.267594     20.996180   \n",
      "max    23763.000000     10.000000  30308.000000     54.435238     30.319403   \n",
      "\n",
      "              price         rooms            sq         year  \n",
      "count  2.376400e+04  23764.000000  2.376400e+04  23764.00000  \n",
      "mean   6.493536e+05      2.620771  1.027249e+02   2000.55117  \n",
      "std    5.326970e+05      0.996530  6.533688e+03     48.31402  \n",
      "min    5.000000e+03      1.000000  8.800000e+00     70.00000  \n",
      "25%    4.115461e+05      2.000000  4.200000e+01   1985.00000  \n",
      "50%    5.200000e+05      3.000000  5.389500e+01   2019.00000  \n",
      "75%    6.999990e+05      3.000000  6.891500e+01   2021.00000  \n",
      "max    1.500000e+07     10.000000  1.007185e+06   2980.00000  \n"
     ]
    }
   ],
   "source": [
    "print(\"Podstawowe statystyki:\")\n",
    "print(dane_mieszkania.describe())"
   ]
  },
  {
   "cell_type": "markdown",
   "metadata": {
    "id": "8wRetQdBHAS_"
   },
   "source": [
    "#### 🧹  Czyszczenie danych"
   ]
  },
  {
   "cell_type": "code",
   "execution_count": 6,
   "metadata": {
    "colab": {
     "base_uri": "https://localhost:8080/",
     "height": 939
    },
    "executionInfo": {
     "elapsed": 377,
     "status": "ok",
     "timestamp": 1739098674713,
     "user": {
      "displayName": "Dawid Piotrkowski",
      "userId": "09085663674484212221"
     },
     "user_tz": -60
    },
    "id": "lprWz-gt47jU",
    "outputId": "05c716dd-5add-4bed-f9e3-8421262e4d19"
   },
   "outputs": [
    {
     "data": {
      "text/html": [
       "<div>\n",
       "<style scoped>\n",
       "    .dataframe tbody tr th:only-of-type {\n",
       "        vertical-align: middle;\n",
       "    }\n",
       "\n",
       "    .dataframe tbody tr th {\n",
       "        vertical-align: top;\n",
       "    }\n",
       "\n",
       "    .dataframe thead th {\n",
       "        text-align: right;\n",
       "    }\n",
       "</style>\n",
       "<table border=\"1\" class=\"dataframe\">\n",
       "  <thead>\n",
       "    <tr style=\"text-align: right;\">\n",
       "      <th></th>\n",
       "      <th>Unnamed: 0</th>\n",
       "      <th>address</th>\n",
       "      <th>city</th>\n",
       "      <th>floor</th>\n",
       "      <th>id</th>\n",
       "      <th>latitude</th>\n",
       "      <th>longitude</th>\n",
       "      <th>price</th>\n",
       "      <th>rooms</th>\n",
       "      <th>sq</th>\n",
       "      <th>year</th>\n",
       "    </tr>\n",
       "  </thead>\n",
       "  <tbody>\n",
       "    <tr>\n",
       "      <th>0</th>\n",
       "      <td>0</td>\n",
       "      <td>Podgrze Zabocie Stanisawa Klimeckiego</td>\n",
       "      <td>Kraków</td>\n",
       "      <td>2.0</td>\n",
       "      <td>23918.0</td>\n",
       "      <td>50.049224</td>\n",
       "      <td>19.970379</td>\n",
       "      <td>749000.0</td>\n",
       "      <td>3.0</td>\n",
       "      <td>74.05</td>\n",
       "      <td>2021.0</td>\n",
       "    </tr>\n",
       "    <tr>\n",
       "      <th>1</th>\n",
       "      <td>1</td>\n",
       "      <td>Praga-Poudnie Grochowska</td>\n",
       "      <td>Warszawa</td>\n",
       "      <td>3.0</td>\n",
       "      <td>17828.0</td>\n",
       "      <td>52.249775</td>\n",
       "      <td>21.106886</td>\n",
       "      <td>240548.0</td>\n",
       "      <td>1.0</td>\n",
       "      <td>24.38</td>\n",
       "      <td>2021.0</td>\n",
       "    </tr>\n",
       "    <tr>\n",
       "      <th>2</th>\n",
       "      <td>2</td>\n",
       "      <td>Krowodrza Czarnowiejska</td>\n",
       "      <td>Kraków</td>\n",
       "      <td>2.0</td>\n",
       "      <td>22784.0</td>\n",
       "      <td>50.066964</td>\n",
       "      <td>19.920025</td>\n",
       "      <td>427000.0</td>\n",
       "      <td>2.0</td>\n",
       "      <td>37.00</td>\n",
       "      <td>1970.0</td>\n",
       "    </tr>\n",
       "    <tr>\n",
       "      <th>3</th>\n",
       "      <td>3</td>\n",
       "      <td>Grunwald</td>\n",
       "      <td>Poznań</td>\n",
       "      <td>2.0</td>\n",
       "      <td>4315.0</td>\n",
       "      <td>52.404212</td>\n",
       "      <td>16.882542</td>\n",
       "      <td>1290000.0</td>\n",
       "      <td>5.0</td>\n",
       "      <td>166.00</td>\n",
       "      <td>1935.0</td>\n",
       "    </tr>\n",
       "    <tr>\n",
       "      <th>4</th>\n",
       "      <td>4</td>\n",
       "      <td>Ochota Gotowy budynek. Stan deweloperski. Osta...</td>\n",
       "      <td>Warszawa</td>\n",
       "      <td>1.0</td>\n",
       "      <td>11770.0</td>\n",
       "      <td>52.212225</td>\n",
       "      <td>20.972630</td>\n",
       "      <td>996000.0</td>\n",
       "      <td>5.0</td>\n",
       "      <td>105.00</td>\n",
       "      <td>2020.0</td>\n",
       "    </tr>\n",
       "    <tr>\n",
       "      <th>...</th>\n",
       "      <td>...</td>\n",
       "      <td>...</td>\n",
       "      <td>...</td>\n",
       "      <td>...</td>\n",
       "      <td>...</td>\n",
       "      <td>...</td>\n",
       "      <td>...</td>\n",
       "      <td>...</td>\n",
       "      <td>...</td>\n",
       "      <td>...</td>\n",
       "      <td>...</td>\n",
       "    </tr>\n",
       "    <tr>\n",
       "      <th>23759</th>\n",
       "      <td>23759</td>\n",
       "      <td>Stare Miasto Naramowice</td>\n",
       "      <td>Poznań</td>\n",
       "      <td>0.0</td>\n",
       "      <td>3976.0</td>\n",
       "      <td>52.449649</td>\n",
       "      <td>16.949408</td>\n",
       "      <td>543000.0</td>\n",
       "      <td>4.0</td>\n",
       "      <td>77.00</td>\n",
       "      <td>2020.0</td>\n",
       "    </tr>\n",
       "    <tr>\n",
       "      <th>23760</th>\n",
       "      <td>23760</td>\n",
       "      <td>Wochy</td>\n",
       "      <td>Warszawa</td>\n",
       "      <td>4.0</td>\n",
       "      <td>10206.0</td>\n",
       "      <td>52.186109</td>\n",
       "      <td>20.948438</td>\n",
       "      <td>910000.0</td>\n",
       "      <td>3.0</td>\n",
       "      <td>71.00</td>\n",
       "      <td>2017.0</td>\n",
       "    </tr>\n",
       "    <tr>\n",
       "      <th>23761</th>\n",
       "      <td>23761</td>\n",
       "      <td>Nowe Miasto Malta ul. Katowicka</td>\n",
       "      <td>Poznań</td>\n",
       "      <td>0.0</td>\n",
       "      <td>4952.0</td>\n",
       "      <td>52.397345</td>\n",
       "      <td>16.961939</td>\n",
       "      <td>430695.0</td>\n",
       "      <td>3.0</td>\n",
       "      <td>50.67</td>\n",
       "      <td>2022.0</td>\n",
       "    </tr>\n",
       "    <tr>\n",
       "      <th>23762</th>\n",
       "      <td>23762</td>\n",
       "      <td>Podgrze Duchackie Walerego Sawka</td>\n",
       "      <td>Kraków</td>\n",
       "      <td>6.0</td>\n",
       "      <td>24148.0</td>\n",
       "      <td>50.024231</td>\n",
       "      <td>19.959569</td>\n",
       "      <td>359000.0</td>\n",
       "      <td>2.0</td>\n",
       "      <td>38.86</td>\n",
       "      <td>2021.0</td>\n",
       "    </tr>\n",
       "    <tr>\n",
       "      <th>23763</th>\n",
       "      <td>23763</td>\n",
       "      <td>Ursynw</td>\n",
       "      <td>Warszawa</td>\n",
       "      <td>2.0</td>\n",
       "      <td>10889.0</td>\n",
       "      <td>52.141039</td>\n",
       "      <td>21.032321</td>\n",
       "      <td>604800.0</td>\n",
       "      <td>3.0</td>\n",
       "      <td>63.00</td>\n",
       "      <td>1978.0</td>\n",
       "    </tr>\n",
       "  </tbody>\n",
       "</table>\n",
       "<p>23764 rows × 11 columns</p>\n",
       "</div>"
      ],
      "text/plain": [
       "       Unnamed: 0                                            address  \\\n",
       "0               0              Podgrze Zabocie Stanisawa Klimeckiego   \n",
       "1               1                           Praga-Poudnie Grochowska   \n",
       "2               2                            Krowodrza Czarnowiejska   \n",
       "3               3                                           Grunwald   \n",
       "4               4  Ochota Gotowy budynek. Stan deweloperski. Osta...   \n",
       "...           ...                                                ...   \n",
       "23759       23759                            Stare Miasto Naramowice   \n",
       "23760       23760                                              Wochy   \n",
       "23761       23761                    Nowe Miasto Malta ul. Katowicka   \n",
       "23762       23762                   Podgrze Duchackie Walerego Sawka   \n",
       "23763       23763                                             Ursynw   \n",
       "\n",
       "           city  floor       id   latitude  longitude      price  rooms  \\\n",
       "0        Kraków    2.0  23918.0  50.049224  19.970379   749000.0    3.0   \n",
       "1      Warszawa    3.0  17828.0  52.249775  21.106886   240548.0    1.0   \n",
       "2        Kraków    2.0  22784.0  50.066964  19.920025   427000.0    2.0   \n",
       "3        Poznań    2.0   4315.0  52.404212  16.882542  1290000.0    5.0   \n",
       "4      Warszawa    1.0  11770.0  52.212225  20.972630   996000.0    5.0   \n",
       "...         ...    ...      ...        ...        ...        ...    ...   \n",
       "23759    Poznań    0.0   3976.0  52.449649  16.949408   543000.0    4.0   \n",
       "23760  Warszawa    4.0  10206.0  52.186109  20.948438   910000.0    3.0   \n",
       "23761    Poznań    0.0   4952.0  52.397345  16.961939   430695.0    3.0   \n",
       "23762    Kraków    6.0  24148.0  50.024231  19.959569   359000.0    2.0   \n",
       "23763  Warszawa    2.0  10889.0  52.141039  21.032321   604800.0    3.0   \n",
       "\n",
       "           sq    year  \n",
       "0       74.05  2021.0  \n",
       "1       24.38  2021.0  \n",
       "2       37.00  1970.0  \n",
       "3      166.00  1935.0  \n",
       "4      105.00  2020.0  \n",
       "...       ...     ...  \n",
       "23759   77.00  2020.0  \n",
       "23760   71.00  2017.0  \n",
       "23761   50.67  2022.0  \n",
       "23762   38.86  2021.0  \n",
       "23763   63.00  1978.0  \n",
       "\n",
       "[23764 rows x 11 columns]"
      ]
     },
     "metadata": {},
     "output_type": "display_data"
    },
    {
     "data": {
      "text/plain": [
       "Unnamed: 0      int64\n",
       "address        object\n",
       "city           object\n",
       "floor         float64\n",
       "id            float64\n",
       "latitude      float64\n",
       "longitude     float64\n",
       "price         float64\n",
       "rooms         float64\n",
       "sq            float64\n",
       "year          float64\n",
       "dtype: object"
      ]
     },
     "execution_count": 6,
     "metadata": {},
     "output_type": "execute_result"
    }
   ],
   "source": [
    "dane_mieszkania[\"city\"]=dane_mieszkania[\"city\"].replace({\n",
    "    \"Warszawa\":\"Warszawa\",\n",
    "    \"Krakw\":\"Kraków\",\n",
    "    \"Pozna\":\"Poznań\"})\n",
    "display(dane_mieszkania)\n",
    "dane_mieszkania.dtypes"
   ]
  },
  {
   "cell_type": "markdown",
   "metadata": {
    "id": "J8vk_bk5mt2X"
   },
   "source": [
    "W powyższym przykładzie zastosowaliśmy metodę replace, by podmienic złe nazwy miast wynikające ze zczytywania danych za pomocą UTF-8. Używamy słownika aby dokonać zmiany dla wszystkich nazw (nawet tych poprawnych). Metoda jest zadawalająca ze względu na małą ilość miast.\n"
   ]
  },
  {
   "cell_type": "markdown",
   "metadata": {
    "id": "xqVtaoZYVQGp"
   },
   "source": [
    "Dane są pełne, nie zawierają missingów."
   ]
  },
  {
   "cell_type": "code",
   "execution_count": 7,
   "metadata": {
    "colab": {
     "base_uri": "https://localhost:8080/"
    },
    "executionInfo": {
     "elapsed": 57,
     "status": "ok",
     "timestamp": 1739098674715,
     "user": {
      "displayName": "Dawid Piotrkowski",
      "userId": "09085663674484212221"
     },
     "user_tz": -60
    },
    "id": "E9zgk_G2UfhK",
    "outputId": "0fd38398-8c46-4ae3-c975-888706166713"
   },
   "outputs": [
    {
     "name": "stdout",
     "output_type": "stream",
     "text": [
      "Unnamed: 0    0\n",
      "address       0\n",
      "city          0\n",
      "floor         0\n",
      "id            0\n",
      "latitude      0\n",
      "longitude     0\n",
      "price         0\n",
      "rooms         0\n",
      "sq            0\n",
      "year          0\n",
      "dtype: int64\n"
     ]
    }
   ],
   "source": [
    "print(dane_mieszkania.isnull().sum())"
   ]
  },
  {
   "cell_type": "markdown",
   "metadata": {
    "id": "z1iMC_PlKttE"
   },
   "source": [
    "## 📊 Wstępna analiza i wizualizacja danych"
   ]
  },
  {
   "cell_type": "markdown",
   "metadata": {
    "id": "pTyx2qAGJn8L"
   },
   "source": [
    "Analizę zaczniemy od prostych wykresów, które przedstawią wykorzystywane dane.  "
   ]
  },
  {
   "cell_type": "code",
   "execution_count": 8,
   "metadata": {
    "executionInfo": {
     "elapsed": 50,
     "status": "ok",
     "timestamp": 1739098674716,
     "user": {
      "displayName": "Dawid Piotrkowski",
      "userId": "09085663674484212221"
     },
     "user_tz": -60
    },
    "id": "XnHhoPB9Y_7b"
   },
   "outputs": [],
   "source": [
    "dane_mieszkania['na_metr']=dane_mieszkania['price']/dane_mieszkania['sq']"
   ]
  },
  {
   "cell_type": "code",
   "execution_count": 9,
   "metadata": {
    "colab": {
     "base_uri": "https://localhost:8080/",
     "height": 603
    },
    "executionInfo": {
     "elapsed": 332,
     "status": "ok",
     "timestamp": 1739098675032,
     "user": {
      "displayName": "Dawid Piotrkowski",
      "userId": "09085663674484212221"
     },
     "user_tz": -60
    },
    "id": "i3FCZUJF9TQj",
    "outputId": "8513bd00-5bd7-4bf8-baff-20ce0aa0d1fc"
   },
   "outputs": [
    {
     "data": {
      "image/png": "[encoded data removed]",
      "text/plain": [
       "<Figure size 1000x600 with 1 Axes>"
      ]
     },
     "metadata": {},
     "output_type": "display_data"
    }
   ],
   "source": [
    "avg_na_metr = dane_mieszkania.groupby('city')['na_metr'].mean().reset_index()\n",
    "\n",
    "plt.figure(figsize=(10, 6))\n",
    "plt.bar(avg_na_metr['city'], avg_na_metr['na_metr'], color='skyblue')\n",
    "plt.title(\"Średnie ceny mieszkań za $m^2$ w wybranych miastach (2023)\")\n",
    "plt.tight_layout()\n",
    "plt.show()"
   ]
  },
  {
   "cell_type": "markdown",
   "metadata": {
    "id": "TQHtOa79nGxw"
   },
   "source": [
    "Następnie porównamy ilości mieszkań o poszczególnych wielkościach w naszych trzech miastach źródłowych. Do tego przydatna będzie nam metoda lambda, by użyć funkcji dla wszystkich podgrup danych."
   ]
  },
  {
   "cell_type": "code",
   "execution_count": 10,
   "metadata": {
    "colab": {
     "base_uri": "https://localhost:8080/",
     "height": 143
    },
    "executionInfo": {
     "elapsed": 126,
     "status": "ok",
     "timestamp": 1739098675159,
     "user": {
      "displayName": "Dawid Piotrkowski",
      "userId": "09085663674484212221"
     },
     "user_tz": -60
    },
    "id": "SI_hOSYfgYeU",
    "outputId": "68383c16-bc5f-4866-a2d6-4b8931e5a1a0"
   },
   "outputs": [
    {
     "data": {
      "text/html": [
       "<div>\n",
       "<style scoped>\n",
       "    .dataframe tbody tr th:only-of-type {\n",
       "        vertical-align: middle;\n",
       "    }\n",
       "\n",
       "    .dataframe tbody tr th {\n",
       "        vertical-align: top;\n",
       "    }\n",
       "\n",
       "    .dataframe thead th {\n",
       "        text-align: right;\n",
       "    }\n",
       "</style>\n",
       "<table border=\"1\" class=\"dataframe\">\n",
       "  <thead>\n",
       "    <tr style=\"text-align: right;\">\n",
       "      <th></th>\n",
       "      <th>city</th>\n",
       "      <th>kawalerki</th>\n",
       "      <th>male_mieszkania</th>\n",
       "      <th>srednie_mieszkania</th>\n",
       "      <th>duze_mieszkania</th>\n",
       "    </tr>\n",
       "  </thead>\n",
       "  <tbody>\n",
       "    <tr>\n",
       "      <th>0</th>\n",
       "      <td>Kraków</td>\n",
       "      <td>621</td>\n",
       "      <td>5511</td>\n",
       "      <td>3105</td>\n",
       "      <td>527</td>\n",
       "    </tr>\n",
       "    <tr>\n",
       "      <th>1</th>\n",
       "      <td>Poznań</td>\n",
       "      <td>143</td>\n",
       "      <td>2247</td>\n",
       "      <td>1530</td>\n",
       "      <td>229</td>\n",
       "    </tr>\n",
       "    <tr>\n",
       "      <th>2</th>\n",
       "      <td>Warszawa</td>\n",
       "      <td>631</td>\n",
       "      <td>5254</td>\n",
       "      <td>3029</td>\n",
       "      <td>937</td>\n",
       "    </tr>\n",
       "  </tbody>\n",
       "</table>\n",
       "</div>"
      ],
      "text/plain": [
       "       city  kawalerki  male_mieszkania  srednie_mieszkania  duze_mieszkania\n",
       "0    Kraków        621             5511                3105              527\n",
       "1    Poznań        143             2247                1530              229\n",
       "2  Warszawa        631             5254                3029              937"
      ]
     },
     "execution_count": 10,
     "metadata": {},
     "output_type": "execute_result"
    }
   ],
   "source": [
    "#zaczynam od stworzenia nowego dataframe do mojego wykresu\n",
    "#używam metody groupby by wyciągnąć z danych źródłowych nazwy miast jako moje wiersze, a nastepnie\n",
    "#za pomocą metody lambda staram się zliczyć liczbę wystapień\n",
    "\n",
    "mieszkanie=dane_mieszkania.groupby(\"city\").apply(lambda x: pd.Series({\n",
    "    \"kawalerki\":(x[\"sq\"]<30).sum(),\n",
    "    \"male_mieszkania\":((x[\"sq\"]>=30)&(x[\"sq\"]<60)).sum(),\n",
    "    \"srednie_mieszkania\":((x[\"sq\"]>=60)&(x[\"sq\"]<100)).sum(),\n",
    "    \"duze_mieszkania\":(x[\"sq\"]>=100).sum()\n",
    "}),include_groups=False).reset_index()\n",
    "\n",
    "'''\n",
    "Funkcja lamba dziala nastepujaco:\n",
    "x - to dana pobrana z oryginalnego dataframe\n",
    "(x[\"sq\"]>=LICZBA1)&(x[\"sq\"]<LICZBA2) - to zawężenie warunku na wilkosc mieszkania\n",
    ".sum() na końcu linijki - sumuje ilosc wystapien dla danego rodzaju z warunku\n",
    "reset_index() oraz include_groups=False służą zapobieganiu nieprzyjemnym errorom/warningom w pandas\n",
    "\n",
    "'''\n",
    "\n",
    "mieszkanie"
   ]
  },
  {
   "cell_type": "markdown",
   "metadata": {
    "id": "O7InsnHOpu-C"
   },
   "source": [
    "Poniżej korzystamy z wbudowanego do `matplotlib` pakietu pozwalającego stworzyć wykres, który wewnątrz zawiera 4 mniejsze wykresy. Pozwala to na zwiększenie przejrzystości i skondensowanie treści w przyjemny dla oka sposób. Aby dokonać tego zaczynamy od ustalenia sztywnego dla wszystkich wykresów osi OX (nazwy miast), a następnie tworzymy zwienną wykres będącą subplot wiekszej figury.\n",
    "\n",
    "Dla danego wykresu mamy powtarzający się schemat:\n",
    "\n",
    "1. **`wykres[x,y].bar`** - polożenie wykresu i ustalenie jego rodzaju na barplot\n",
    "\n",
    "2. **`(x_axis, mieszkanie[\"NAZWA\"], color=\"KOLOR\", width=\"LICZBA\")`** to cechy naszych wykresow tj. kolor, oś X, oś Y, i szerokość słupków\n",
    "\n",
    "3. **`set_title(NAZWA)`** daje nam mozliwosc ustalenia nazwy poszczegolnego wykresu\n",
    "\n",
    "4. Na koncu uzywamy **`plt.tight_layout()`** by uniknąc nachodzenia na siebie wykresów oraz pokazujemy je metoda **`plt.show()`**"
   ]
  },
  {
   "cell_type": "code",
   "execution_count": 11,
   "metadata": {
    "colab": {
     "base_uri": "https://localhost:8080/",
     "height": 806
    },
    "executionInfo": {
     "elapsed": 856,
     "status": "ok",
     "timestamp": 1739098676017,
     "user": {
      "displayName": "Dawid Piotrkowski",
      "userId": "09085663674484212221"
     },
     "user_tz": -60
    },
    "id": "VTLn0-fEg3PM",
    "outputId": "549ee0bc-7454-4a3e-d17c-edd347ff556c"
   },
   "outputs": [
    {
     "data": {
      "image/png": "[encoded data removed]",
      "text/plain": [
       "<Figure size 800x800 with 4 Axes>"
      ]
     },
     "metadata": {},
     "output_type": "display_data"
    }
   ],
   "source": [
    "x_axis=mieszkanie[\"city\"]\n",
    "\n",
    "fig, wykres=plt.subplots(2,2,figsize=(8,8))\n",
    "\n",
    "wykres[0,0].bar(x_axis,mieszkanie[\"kawalerki\"], color=\"blue\", width=0.4)\n",
    "wykres[0,0].set_title(\"Liczba kawalerek (<30$m^2$)\")\n",
    "\n",
    "wykres[0,1].bar(x_axis,mieszkanie[\"male_mieszkania\"], color=\"yellow\",width=0.4)\n",
    "wykres[0,1].set_title(\"Liczba małych mieszkań (<60$m^2$)\")\n",
    "\n",
    "wykres[1,0].bar(x_axis,mieszkanie[\"srednie_mieszkania\"], color=\"orange\",width=0.4)\n",
    "wykres[1,0].set_title(\"Liczba średnich mieszkań (<100$m^2$)\")\n",
    "\n",
    "wykres[1,1].bar(x_axis,mieszkanie[\"duze_mieszkania\"], color=\"red\",width=0.4)\n",
    "wykres[1,1].set_title(\"Liczba dużych mieszkań (>=100$m^2$)\")\n",
    "\n",
    "plt.tight_layout()\n",
    "\n",
    "plt.show()"
   ]
  },
  {
   "cell_type": "markdown",
   "metadata": {
    "id": "2qcJ0IeVJvl3"
   },
   "source": [
    "## 🌍 Wizualizacja danych na mapie\n",
    "\n",
    "\n"
   ]
  },
  {
   "cell_type": "markdown",
   "metadata": {
    "id": "aD9A59XyQ3VI"
   },
   "source": [
    "\n",
    "Za pomocą matplotlib zwizualizujemy rozkład mieszkań na mapie Warszawy oraz średnie ceny za m$^2$. Najpierw wykorzystamy bibliotekę `geopandas` do wczytania konturów mapy Warszawy (źródło Github). Metoda `read_file` działa w podobny sposób do wczytywania plików w pandas. Powstały obiekt jest typu `GeoDataFrame` (gdf).\n"
   ]
  },
  {
   "cell_type": "code",
   "execution_count": 12,
   "metadata": {
    "colab": {
     "base_uri": "https://localhost:8080/",
     "height": 645
    },
    "executionInfo": {
     "elapsed": 170,
     "status": "ok",
     "timestamp": 1739098676186,
     "user": {
      "displayName": "Dawid Piotrkowski",
      "userId": "09085663674484212221"
     },
     "user_tz": -60
    },
    "id": "gJuWNMwuMX1X",
    "outputId": "eb0279a2-49b5-4379-d56b-5d4e2ea7e959"
   },
   "outputs": [
    {
     "data": {
      "text/html": [
       "<div>\n",
       "<style scoped>\n",
       "    .dataframe tbody tr th:only-of-type {\n",
       "        vertical-align: middle;\n",
       "    }\n",
       "\n",
       "    .dataframe tbody tr th {\n",
       "        vertical-align: top;\n",
       "    }\n",
       "\n",
       "    .dataframe thead th {\n",
       "        text-align: right;\n",
       "    }\n",
       "</style>\n",
       "<table border=\"1\" class=\"dataframe\">\n",
       "  <thead>\n",
       "    <tr style=\"text-align: right;\">\n",
       "      <th></th>\n",
       "      <th>cartodb_id</th>\n",
       "      <th>name</th>\n",
       "      <th>geometry</th>\n",
       "    </tr>\n",
       "  </thead>\n",
       "  <tbody>\n",
       "    <tr>\n",
       "      <th>0</th>\n",
       "      <td>1</td>\n",
       "      <td>Warszawa</td>\n",
       "      <td>MULTIPOLYGON (((21.02753 52.36513, 21.02539 52...</td>\n",
       "    </tr>\n",
       "    <tr>\n",
       "      <th>1</th>\n",
       "      <td>22</td>\n",
       "      <td>Ochota</td>\n",
       "      <td>MULTIPOLYGON (((21.00152 52.22807, 20.99059 52...</td>\n",
       "    </tr>\n",
       "    <tr>\n",
       "      <th>2</th>\n",
       "      <td>25</td>\n",
       "      <td>Rembertów</td>\n",
       "      <td>MULTIPOLYGON (((21.13242 52.23909, 21.13313 52...</td>\n",
       "    </tr>\n",
       "    <tr>\n",
       "      <th>3</th>\n",
       "      <td>2</td>\n",
       "      <td>Bemowo</td>\n",
       "      <td>MULTIPOLYGON (((20.87309 52.21666, 20.87307 52...</td>\n",
       "    </tr>\n",
       "    <tr>\n",
       "      <th>4</th>\n",
       "      <td>19</td>\n",
       "      <td>Białołęka</td>\n",
       "      <td>MULTIPOLYGON (((20.99622 52.28734, 20.99782 52...</td>\n",
       "    </tr>\n",
       "    <tr>\n",
       "      <th>5</th>\n",
       "      <td>31</td>\n",
       "      <td>Wesoła</td>\n",
       "      <td>MULTIPOLYGON (((21.26173 52.21007, 21.26059 52...</td>\n",
       "    </tr>\n",
       "    <tr>\n",
       "      <th>6</th>\n",
       "      <td>20</td>\n",
       "      <td>Bielany</td>\n",
       "      <td>MULTIPOLYGON (((20.87715 52.29406, 20.87635 52...</td>\n",
       "    </tr>\n",
       "    <tr>\n",
       "      <th>7</th>\n",
       "      <td>21</td>\n",
       "      <td>Mokotów</td>\n",
       "      <td>MULTIPOLYGON (((21.03086 52.20686, 21.03062 52...</td>\n",
       "    </tr>\n",
       "    <tr>\n",
       "      <th>8</th>\n",
       "      <td>23</td>\n",
       "      <td>Praga Południe</td>\n",
       "      <td>MULTIPOLYGON (((21.0929 52.21532, 21.09672 52....</td>\n",
       "    </tr>\n",
       "    <tr>\n",
       "      <th>9</th>\n",
       "      <td>24</td>\n",
       "      <td>Praga Północ</td>\n",
       "      <td>MULTIPOLYGON (((21.01312 52.29485, 21.01296 52...</td>\n",
       "    </tr>\n",
       "    <tr>\n",
       "      <th>10</th>\n",
       "      <td>26</td>\n",
       "      <td>Śródmieście</td>\n",
       "      <td>MULTIPOLYGON (((21.03685 52.2386, 21.03563 52....</td>\n",
       "    </tr>\n",
       "    <tr>\n",
       "      <th>11</th>\n",
       "      <td>27</td>\n",
       "      <td>Targówek</td>\n",
       "      <td>MULTIPOLYGON (((21.03688 52.26855, 21.03789 52...</td>\n",
       "    </tr>\n",
       "    <tr>\n",
       "      <th>12</th>\n",
       "      <td>28</td>\n",
       "      <td>Ursus</td>\n",
       "      <td>MULTIPOLYGON (((20.85192 52.19972, 20.85202 52...</td>\n",
       "    </tr>\n",
       "    <tr>\n",
       "      <th>13</th>\n",
       "      <td>34</td>\n",
       "      <td>Wola</td>\n",
       "      <td>MULTIPOLYGON (((21.00152 52.22807, 21.00001 52...</td>\n",
       "    </tr>\n",
       "    <tr>\n",
       "      <th>14</th>\n",
       "      <td>29</td>\n",
       "      <td>Ursynów</td>\n",
       "      <td>MULTIPOLYGON (((20.97961 52.12947, 20.97961 52...</td>\n",
       "    </tr>\n",
       "    <tr>\n",
       "      <th>15</th>\n",
       "      <td>30</td>\n",
       "      <td>Wawer</td>\n",
       "      <td>MULTIPOLYGON (((21.10542 52.1941, 21.10593 52....</td>\n",
       "    </tr>\n",
       "    <tr>\n",
       "      <th>16</th>\n",
       "      <td>32</td>\n",
       "      <td>Wilanów</td>\n",
       "      <td>MULTIPOLYGON (((21.13322 52.12301, 21.13473 52...</td>\n",
       "    </tr>\n",
       "    <tr>\n",
       "      <th>17</th>\n",
       "      <td>33</td>\n",
       "      <td>Włochy</td>\n",
       "      <td>MULTIPOLYGON (((20.98297 52.14043, 20.9833 52....</td>\n",
       "    </tr>\n",
       "    <tr>\n",
       "      <th>18</th>\n",
       "      <td>35</td>\n",
       "      <td>Żoliborz</td>\n",
       "      <td>MULTIPOLYGON (((20.98103 52.25944, 20.9816 52....</td>\n",
       "    </tr>\n",
       "  </tbody>\n",
       "</table>\n",
       "</div>"
      ],
      "text/plain": [
       "    cartodb_id            name  \\\n",
       "0            1        Warszawa   \n",
       "1           22          Ochota   \n",
       "2           25       Rembertów   \n",
       "3            2          Bemowo   \n",
       "4           19       Białołęka   \n",
       "5           31          Wesoła   \n",
       "6           20         Bielany   \n",
       "7           21         Mokotów   \n",
       "8           23  Praga Południe   \n",
       "9           24    Praga Północ   \n",
       "10          26     Śródmieście   \n",
       "11          27        Targówek   \n",
       "12          28           Ursus   \n",
       "13          34            Wola   \n",
       "14          29         Ursynów   \n",
       "15          30           Wawer   \n",
       "16          32         Wilanów   \n",
       "17          33          Włochy   \n",
       "18          35        Żoliborz   \n",
       "\n",
       "                                             geometry  \n",
       "0   MULTIPOLYGON (((21.02753 52.36513, 21.02539 52...  \n",
       "1   MULTIPOLYGON (((21.00152 52.22807, 20.99059 52...  \n",
       "2   MULTIPOLYGON (((21.13242 52.23909, 21.13313 52...  \n",
       "3   MULTIPOLYGON (((20.87309 52.21666, 20.87307 52...  \n",
       "4   MULTIPOLYGON (((20.99622 52.28734, 20.99782 52...  \n",
       "5   MULTIPOLYGON (((21.26173 52.21007, 21.26059 52...  \n",
       "6   MULTIPOLYGON (((20.87715 52.29406, 20.87635 52...  \n",
       "7   MULTIPOLYGON (((21.03086 52.20686, 21.03062 52...  \n",
       "8   MULTIPOLYGON (((21.0929 52.21532, 21.09672 52....  \n",
       "9   MULTIPOLYGON (((21.01312 52.29485, 21.01296 52...  \n",
       "10  MULTIPOLYGON (((21.03685 52.2386, 21.03563 52....  \n",
       "11  MULTIPOLYGON (((21.03688 52.26855, 21.03789 52...  \n",
       "12  MULTIPOLYGON (((20.85192 52.19972, 20.85202 52...  \n",
       "13  MULTIPOLYGON (((21.00152 52.22807, 21.00001 52...  \n",
       "14  MULTIPOLYGON (((20.97961 52.12947, 20.97961 52...  \n",
       "15  MULTIPOLYGON (((21.10542 52.1941, 21.10593 52....  \n",
       "16  MULTIPOLYGON (((21.13322 52.12301, 21.13473 52...  \n",
       "17  MULTIPOLYGON (((20.98297 52.14043, 20.9833 52....  \n",
       "18  MULTIPOLYGON (((20.98103 52.25944, 20.9816 52....  "
      ]
     },
     "metadata": {},
     "output_type": "display_data"
    }
   ],
   "source": [
    "warszawa = gpd.read_file(\"dane/warszawa-dzielnice.geojson\")\n",
    "type(warszawa)\n",
    "display(warszawa)"
   ]
  },
  {
   "cell_type": "markdown",
   "metadata": {
    "id": "eBLd7TNpQq4V"
   },
   "source": [
    "Następnie `dane_mieszkania` przerabiamy na `GeoDataFrame`, ponieważ w kolejnym kroku wykorzystamy metodę [`sjoin`](https://geopandas.org/en/stable/docs/reference/api/geopandas.sjoin.html), która umożliwi połączenie obu gdf.\n",
    "\n",
    "W `dane_mieszkania` współrzędne geograficzne są przedstawione w dwóch kolumnach `longitude` i `latitude` a współrzędne na mapie konturowej Warszawy są reprezentowane jako punkty w kolumnie `geometry`. Żeby umożliwić złączenie, współrzędne konwertujemy za pomocą funkcji [`Point`](https://shapely.readthedocs.io/en/2.0.6/reference/shapely.Point.html) z biblioteki `shapely`."
   ]
  },
  {
   "cell_type": "markdown",
   "metadata": {
    "id": "XG21U1U9SrGt"
   },
   "source": []
  },
  {
   "cell_type": "code",
   "execution_count": 13,
   "metadata": {
    "colab": {
     "base_uri": "https://localhost:8080/",
     "height": 458
    },
    "executionInfo": {
     "elapsed": 938,
     "status": "ok",
     "timestamp": 1739098677126,
     "user": {
      "displayName": "Dawid Piotrkowski",
      "userId": "09085663674484212221"
     },
     "user_tz": -60
    },
    "id": "HQxDxqYWM4rn",
    "outputId": "751790a4-bb11-4bb2-f524-35f974bc7953"
   },
   "outputs": [
    {
     "data": {
      "text/plain": [
       "0        POINT (19.97038 50.04922)\n",
       "1        POINT (21.10689 52.24977)\n",
       "2        POINT (19.92002 50.06696)\n",
       "3        POINT (16.88254 52.40421)\n",
       "4        POINT (20.97263 52.21222)\n",
       "                   ...            \n",
       "23759    POINT (16.94941 52.44965)\n",
       "23760    POINT (20.94844 52.18611)\n",
       "23761    POINT (16.96194 52.39734)\n",
       "23762    POINT (19.95957 50.02423)\n",
       "23763    POINT (21.03232 52.14104)\n",
       "Name: geometry, Length: 23764, dtype: geometry"
      ]
     },
     "execution_count": 13,
     "metadata": {},
     "output_type": "execute_result"
    }
   ],
   "source": [
    "from shapely.geometry import Point\n",
    "\n",
    "geometry = [Point(xy) for xy in zip(dane_mieszkania['longitude'], dane_mieszkania['latitude'])]\n",
    "gdf_mieszkania = gpd.GeoDataFrame(dane_mieszkania, geometry=geometry)\n",
    "gdf_mieszkania['geometry']"
   ]
  },
  {
   "cell_type": "markdown",
   "metadata": {
    "id": "q1YsSlGtXo3c"
   },
   "source": [
    "Możemy w końcu połączyć oba gdf. Domyślnie metoda `sjoin` łączy gdf po kolumnie `geometry`."
   ]
  },
  {
   "cell_type": "code",
   "execution_count": 14,
   "metadata": {
    "colab": {
     "base_uri": "https://localhost:8080/"
    },
    "executionInfo": {
     "elapsed": 337,
     "status": "ok",
     "timestamp": 1739098677489,
     "user": {
      "displayName": "Dawid Piotrkowski",
      "userId": "09085663674484212221"
     },
     "user_tz": -60
    },
    "id": "OuBiM1fpKZLa",
    "outputId": "ce919ace-5531-46b3-f39a-fd9d431a3e44"
   },
   "outputs": [
    {
     "name": "stderr",
     "output_type": "stream",
     "text": [
      "/tmp/ipykernel_144760/4005840991.py:1: UserWarning: CRS mismatch between the CRS of left geometries and the CRS of right geometries.\n",
      "Use `to_crs()` to reproject one of the input geometries to match the CRS of the other.\n",
      "\n",
      "Left CRS: None\n",
      "Right CRS: EPSG:4326\n",
      "\n",
      "  gdf_warszawa = gpd.sjoin(gdf_mieszkania, warszawa, how='inner')\n"
     ]
    }
   ],
   "source": [
    "gdf_warszawa = gpd.sjoin(gdf_mieszkania, warszawa, how='inner')\n"
   ]
  },
  {
   "cell_type": "markdown",
   "metadata": {
    "id": "dMlPcHqaZ9MX"
   },
   "source": [
    "Po stworzeniu **`gdf_warszawa`** zawierającego potrzebne nam dane geograficzne oraz dane mieszkań, możemy przystąpić do wizualizacji.\n",
    "\n",
    "Interesuje nas stworzenie heatmapy ze średnimi cenami mieszkań za m$^2$. W tym celu wykorzystamy wykres typu [`hexbin`](https://matplotlib.org/stable/api/_as_gen/matplotlib.pyplot.hexbin.html), który agreguje dane przestrzennie.\n",
    "\n",
    "Kluczowy jest tutaj parametr C, który domyślnie jest opcjonalny. Wykorzystujemy go do zagregowania punktów z `price_per_sq`. Punkty zadeklarowane w parametrze C są uśredniane za pomocą `reduce_C_function=np.mean`. Mogliśmy pominąć ten argument, ponieważ dokumentacja matplotlib wskazuje `numpy.mean` jako domyślną wartość. Jednak uznaliśmy, że dodanie go ułatwi zrozumienie kodu.\n",
    "\n",
    "Na koniec dodajemy `colorbar`."
   ]
  },
  {
   "cell_type": "code",
   "execution_count": 32,
   "metadata": {
    "colab": {
     "base_uri": "https://localhost:8080/",
     "height": 490
    },
    "executionInfo": {
     "elapsed": 1130,
     "status": "ok",
     "timestamp": 1739098678617,
     "user": {
      "displayName": "Dawid Piotrkowski",
      "userId": "09085663674484212221"
     },
     "user_tz": -60
    },
    "id": "XqzbClCSN-GA",
    "outputId": "4a8dfb5a-4783-45ca-9c6d-d93d4162235c"
   },
   "outputs": [
    {
     "data": {
      "text/plain": [
       "<Figure size 1000x1600 with 0 Axes>"
      ]
     },
     "metadata": {},
     "output_type": "display_data"
    },
    {
     "data": {
      "image/png": "[encoded data removed]",
      "text/plain": [
       "<Figure size 640x480 with 2 Axes>"
      ]
     },
     "metadata": {},
     "output_type": "display_data"
    }
   ],
   "source": [
    "plt.figure(figsize=(10, 16))\n",
    "warszawa.plot(color='lightgrey', edgecolor='black')\n",
    "\n",
    "plt.hexbin(gdf_warszawa.geometry.x, gdf_warszawa.geometry.y,  # wspolrzedne\n",
    "           C=gdf_warszawa['na_metr'], gridsize=50, cmap='OrRd',\n",
    "           reduce_C_function=np.mean)\n",
    "\n",
    "cb = plt.colorbar(label='Średnia cena mieszkania na m²')\n",
    "\n",
    "plt.title('Ceny mieszkań za m² w Warszawie (2023)')\n",
    "plt.xlabel('Longitude')\n",
    "plt.ylabel('Latitude')\n",
    "plt.savefig('wizualizacje/1.png')\n",
    "plt.show()"
   ]
  },
  {
   "cell_type": "code",
   "execution_count": 16,
   "metadata": {
    "colab": {
     "base_uri": "https://localhost:8080/",
     "height": 711
    },
    "executionInfo": {
     "elapsed": 74,
     "status": "ok",
     "timestamp": 1739099695969,
     "user": {
      "displayName": "Dawid Piotrkowski",
      "userId": "09085663674484212221"
     },
     "user_tz": -60
    },
    "id": "5CVe2az7a112",
    "outputId": "4869a6b4-5e28-43cc-cd47-a779560ceae8"
   },
   "outputs": [
    {
     "data": {
      "text/plain": [
       "name\n",
       "Bemowo            10635.939861\n",
       "Białołęka          8545.982878\n",
       "Bielany           11730.907611\n",
       "Mokotów           13336.421316\n",
       "Ochota            12745.547727\n",
       "Praga Południe    10896.442177\n",
       "Praga Północ      11820.207606\n",
       "Rembertów          7442.270794\n",
       "Targówek           9791.790042\n",
       "Ursus              9464.738957\n",
       "Ursynów           11371.326340\n",
       "Warszawa          12243.949840\n",
       "Wawer              8777.637125\n",
       "Wesoła            13170.926434\n",
       "Wilanów           12465.849083\n",
       "Wola              13457.392188\n",
       "Włochy            10731.488336\n",
       "Śródmieście       16297.692099\n",
       "Żoliborz          13579.028056\n",
       "Name: na_metr, dtype: float64"
      ]
     },
     "metadata": {},
     "output_type": "display_data"
    }
   ],
   "source": [
    "df_avg_ceny_dzielnice = gdf_warszawa[[\"name\", \"na_metr\"]]\n",
    "srednie_ceny_dzielnice = df_avg_ceny_dzielnice.groupby(\"name\")[\"na_metr\"].mean()\n",
    "display(srednie_ceny_dzielnice)"
   ]
  },
  {
   "cell_type": "markdown",
   "metadata": {
    "id": "OTvpCVbJa9hb"
   },
   "source": [
    "### Obliczanie odległości od centrum"
   ]
  },
  {
   "cell_type": "markdown",
   "metadata": {
    "id": "I14555frt5HR"
   },
   "source": [
    "Informacje o koordynatach centrów miast zostały pobrane z Wikipedii. Dane są przechowywane w słowniku, a koordynaty są przekształcone przez `Point`."
   ]
  },
  {
   "cell_type": "code",
   "execution_count": 17,
   "metadata": {
    "executionInfo": {
     "elapsed": 18,
     "status": "ok",
     "timestamp": 1739098678637,
     "user": {
      "displayName": "Dawid Piotrkowski",
      "userId": "09085663674484212221"
     },
     "user_tz": -60
    },
    "id": "8032b37Ku-sQ"
   },
   "outputs": [],
   "source": [
    "miasta = {\n",
    "    'Warszawa': Point(21.011245, 52.229999),\n",
    "    'Kraków': Point(19.937222, 50.061389),\n",
    "    'Poznań': Point(16.92929, 52.41046)\n",
    "}\n",
    "gdf_mieszkania['centrum_miasta'] = gdf_mieszkania['city'].map(miasta)"
   ]
  },
  {
   "cell_type": "markdown",
   "metadata": {
    "id": "uTOpHgEDvGs5"
   },
   "source": [
    "🛠️ **Część techniczna, definicje**\n",
    "- CRS (Coordinate Reference Systems)\n",
    "- EPSG:4326 - koordynaty przedstawione za pomocą stopni.\n",
    "- EPSG:3857 – koordynaty przedstawione jako metry.\n",
    "\n",
    "Kod przekształca współrzędne geograficzne mieszkań i centrum miasta ze stopni (EPSG:4326) na metry (EPSG:3857), aby umożliwić dokładne obliczenia odległości. Stopnie nie są jednostką liniową, więc w tym układzie odległości byłyby nieprecyzyjne. Po konwersji obliczenia są wykonywane w metrach, a wynik podawany w kilometrach."
   ]
  },
  {
   "cell_type": "code",
   "execution_count": 18,
   "metadata": {
    "executionInfo": {
     "elapsed": 14823,
     "status": "ok",
     "timestamp": 1739098693464,
     "user": {
      "displayName": "Dawid Piotrkowski",
      "userId": "09085663674484212221"
     },
     "user_tz": -60
    },
    "id": "lcCtf8fVvVwC"
   },
   "outputs": [],
   "source": [
    "gdf_mieszkania.set_crs(epsg=4326, inplace=True)\n",
    "gdf_mieszkania = gdf_mieszkania.to_crs(epsg=3857) #transformacja do CRS w metrach (EPSG:3857)\n",
    "\n",
    "# Transformacja punktów 'centrum_miasta' do EPSG:3857\n",
    "gdf_mieszkania['centrum_miasta'] = gdf_mieszkania['centrum_miasta'].apply(\n",
    "    lambda x: gpd.GeoSeries([x], crs=\"EPSG:4326\").to_crs(epsg=3857).iloc[0]\n",
    ")"
   ]
  },
  {
   "cell_type": "markdown",
   "metadata": {
    "id": "PXytq1mgvbWz"
   },
   "source": [
    "Dane mają obecnie odpowiedni CRS. Następnie wykorzystamy `geopandas` oraz metodę `distance` do zmierzenia odległości lokalizacji mieszkań z `gdf_mieszkania` od centrum miasta."
   ]
  },
  {
   "cell_type": "markdown",
   "metadata": {
    "id": "a8FxWnW_XE3Q"
   },
   "source": [
    "⚠️ **Uwaga**: Poniższą komórkę najlepiej uruchomić za pomocą opcji `Run all` w Jupyter Notebook. Samodzielne uruchomienie może spowodować nadpisanie systemu współrzędnych, co skutkuje obliczeniem odległości w niepożądanej jednostce. **Dotyczy to wyłącznie tej komórki; pozostałe można uruchamiać niezależnie**."
   ]
  },
  {
   "cell_type": "code",
   "execution_count": 19,
   "metadata": {
    "colab": {
     "base_uri": "https://localhost:8080/",
     "height": 423
    },
    "executionInfo": {
     "elapsed": 949,
     "status": "ok",
     "timestamp": 1739098694416,
     "user": {
      "displayName": "Dawid Piotrkowski",
      "userId": "09085663674484212221"
     },
     "user_tz": -60
    },
    "id": "8c4eAdwGvctx",
    "outputId": "ca99e555-92b9-4f91-a505-7e58fbb779d0"
   },
   "outputs": [
    {
     "data": {
      "text/html": [
       "<div>\n",
       "<style scoped>\n",
       "    .dataframe tbody tr th:only-of-type {\n",
       "        vertical-align: middle;\n",
       "    }\n",
       "\n",
       "    .dataframe tbody tr th {\n",
       "        vertical-align: top;\n",
       "    }\n",
       "\n",
       "    .dataframe thead th {\n",
       "        text-align: right;\n",
       "    }\n",
       "</style>\n",
       "<table border=\"1\" class=\"dataframe\">\n",
       "  <thead>\n",
       "    <tr style=\"text-align: right;\">\n",
       "      <th></th>\n",
       "      <th>address</th>\n",
       "      <th>city</th>\n",
       "      <th>geometry</th>\n",
       "      <th>odleglosc</th>\n",
       "    </tr>\n",
       "  </thead>\n",
       "  <tbody>\n",
       "    <tr>\n",
       "      <th>1</th>\n",
       "      <td>Praga-Poudnie Grochowska</td>\n",
       "      <td>Warszawa</td>\n",
       "      <td>POINT (21.10689 52.24977)</td>\n",
       "      <td>11.237233</td>\n",
       "    </tr>\n",
       "    <tr>\n",
       "      <th>1</th>\n",
       "      <td>Praga-Poudnie Grochowska</td>\n",
       "      <td>Warszawa</td>\n",
       "      <td>POINT (21.10689 52.24977)</td>\n",
       "      <td>11.237233</td>\n",
       "    </tr>\n",
       "    <tr>\n",
       "      <th>4</th>\n",
       "      <td>Ochota Gotowy budynek. Stan deweloperski. Osta...</td>\n",
       "      <td>Warszawa</td>\n",
       "      <td>POINT (20.97263 52.21222)</td>\n",
       "      <td>5.376739</td>\n",
       "    </tr>\n",
       "    <tr>\n",
       "      <th>4</th>\n",
       "      <td>Ochota Gotowy budynek. Stan deweloperski. Osta...</td>\n",
       "      <td>Warszawa</td>\n",
       "      <td>POINT (20.97263 52.21222)</td>\n",
       "      <td>5.376739</td>\n",
       "    </tr>\n",
       "    <tr>\n",
       "      <th>7</th>\n",
       "      <td>Mokotw Pory</td>\n",
       "      <td>Warszawa</td>\n",
       "      <td>POINT (21.0443 52.18406)</td>\n",
       "      <td>9.120599</td>\n",
       "    </tr>\n",
       "    <tr>\n",
       "      <th>...</th>\n",
       "      <td>...</td>\n",
       "      <td>...</td>\n",
       "      <td>...</td>\n",
       "      <td>...</td>\n",
       "    </tr>\n",
       "    <tr>\n",
       "      <th>23757</th>\n",
       "      <td>Rembertw Gwarkw</td>\n",
       "      <td>Warszawa</td>\n",
       "      <td>POINT (21.10953 52.26325)</td>\n",
       "      <td>12.500760</td>\n",
       "    </tr>\n",
       "    <tr>\n",
       "      <th>23760</th>\n",
       "      <td>Wochy</td>\n",
       "      <td>Warszawa</td>\n",
       "      <td>POINT (20.94844 52.18611)</td>\n",
       "      <td>10.604299</td>\n",
       "    </tr>\n",
       "    <tr>\n",
       "      <th>23760</th>\n",
       "      <td>Wochy</td>\n",
       "      <td>Warszawa</td>\n",
       "      <td>POINT (20.94844 52.18611)</td>\n",
       "      <td>10.604299</td>\n",
       "    </tr>\n",
       "    <tr>\n",
       "      <th>23763</th>\n",
       "      <td>Ursynw</td>\n",
       "      <td>Warszawa</td>\n",
       "      <td>POINT (21.03232 52.14104)</td>\n",
       "      <td>16.321653</td>\n",
       "    </tr>\n",
       "    <tr>\n",
       "      <th>23763</th>\n",
       "      <td>Ursynw</td>\n",
       "      <td>Warszawa</td>\n",
       "      <td>POINT (21.03232 52.14104)</td>\n",
       "      <td>16.321653</td>\n",
       "    </tr>\n",
       "  </tbody>\n",
       "</table>\n",
       "<p>19650 rows × 4 columns</p>\n",
       "</div>"
      ],
      "text/plain": [
       "                                                 address      city  \\\n",
       "1                               Praga-Poudnie Grochowska  Warszawa   \n",
       "1                               Praga-Poudnie Grochowska  Warszawa   \n",
       "4      Ochota Gotowy budynek. Stan deweloperski. Osta...  Warszawa   \n",
       "4      Ochota Gotowy budynek. Stan deweloperski. Osta...  Warszawa   \n",
       "7                                            Mokotw Pory  Warszawa   \n",
       "...                                                  ...       ...   \n",
       "23757                                    Rembertw Gwarkw  Warszawa   \n",
       "23760                                              Wochy  Warszawa   \n",
       "23760                                              Wochy  Warszawa   \n",
       "23763                                             Ursynw  Warszawa   \n",
       "23763                                             Ursynw  Warszawa   \n",
       "\n",
       "                        geometry  odleglosc  \n",
       "1      POINT (21.10689 52.24977)  11.237233  \n",
       "1      POINT (21.10689 52.24977)  11.237233  \n",
       "4      POINT (20.97263 52.21222)   5.376739  \n",
       "4      POINT (20.97263 52.21222)   5.376739  \n",
       "7       POINT (21.0443 52.18406)   9.120599  \n",
       "...                          ...        ...  \n",
       "23757  POINT (21.10953 52.26325)  12.500760  \n",
       "23760  POINT (20.94844 52.18611)  10.604299  \n",
       "23760  POINT (20.94844 52.18611)  10.604299  \n",
       "23763  POINT (21.03232 52.14104)  16.321653  \n",
       "23763  POINT (21.03232 52.14104)  16.321653  \n",
       "\n",
       "[19650 rows x 4 columns]"
      ]
     },
     "metadata": {},
     "output_type": "display_data"
    }
   ],
   "source": [
    "gdf_mieszkania['odleglosc'] = gdf_mieszkania.apply(\n",
    "    lambda row: row.geometry.distance(row['centrum_miasta']) / 1000, axis=1\n",
    ")\n",
    "gdf_mieszkania = gdf_mieszkania.to_crs(epsg=4326)\n",
    "warszawa = warszawa.to_crs(epsg=4326)\n",
    "\n",
    "gdf_warszawa = gpd.sjoin(gdf_mieszkania, warszawa, how='inner', predicate='within')\n",
    "display(gdf_warszawa[['address', 'city', 'geometry', 'odleglosc']])\n",
    "\n"
   ]
  },
  {
   "cell_type": "code",
   "execution_count": 20,
   "metadata": {
    "colab": {
     "base_uri": "https://localhost:8080/",
     "height": 209
    },
    "executionInfo": {
     "elapsed": 5,
     "status": "ok",
     "timestamp": 1739098694422,
     "user": {
      "displayName": "Dawid Piotrkowski",
      "userId": "09085663674484212221"
     },
     "user_tz": -60
    },
    "id": "2ObN6KJUteoY",
    "outputId": "6792de9b-9f5f-4da9-ccef-791db70068ec"
   },
   "outputs": [
    {
     "data": {
      "text/plain": [
       "city\n",
       "Kraków      10.126537\n",
       "Poznań       6.339776\n",
       "Warszawa    10.418465\n",
       "Name: odleglosc, dtype: float64"
      ]
     },
     "execution_count": 20,
     "metadata": {},
     "output_type": "execute_result"
    }
   ],
   "source": [
    "gdf_mieszkania.groupby('city')['odleglosc'].mean()"
   ]
  },
  {
   "cell_type": "markdown",
   "metadata": {
    "id": "qLE7YxE3vfnO"
   },
   "source": [
    "Możemy przejść do wizualizacji."
   ]
  },
  {
   "cell_type": "code",
   "execution_count": 21,
   "metadata": {
    "colab": {
     "base_uri": "https://localhost:8080/",
     "height": 493
    },
    "executionInfo": {
     "elapsed": 888,
     "status": "ok",
     "timestamp": 1739098695311,
     "user": {
      "displayName": "Dawid Piotrkowski",
      "userId": "09085663674484212221"
     },
     "user_tz": -60
    },
    "id": "kSnI4HmGvjOz",
    "outputId": "f78839e5-79a3-4349-dc25-2eea9c5db680"
   },
   "outputs": [
    {
     "data": {
      "text/plain": [
       "<Figure size 1000x1600 with 0 Axes>"
      ]
     },
     "metadata": {},
     "output_type": "display_data"
    },
    {
     "data": {
      "image/png": "[encoded data removed]",
      "text/plain": [
       "<Figure size 640x480 with 2 Axes>"
      ]
     },
     "metadata": {},
     "output_type": "display_data"
    }
   ],
   "source": [
    "plt.figure(figsize=(10, 16))\n",
    "warszawa.plot(color='lightgrey', edgecolor='black')\n",
    "\n",
    "hb = plt.hexbin(gdf_warszawa.geometry.x, gdf_warszawa.geometry.y,\n",
    "                C=gdf_warszawa['odleglosc'], gridsize=50, cmap='OrRd',\n",
    "                reduce_C_function=np.mean)\n",
    "\n",
    "centrum_miasta_point = miasta['Warszawa']\n",
    "plt.scatter(centrum_miasta_point.x, centrum_miasta_point.y,\n",
    "            color='blue', label='Centrum', zorder=2)\n",
    "\n",
    "cb = plt.colorbar(hb, label='Średnia odległość (km)')\n",
    "\n",
    "plt.title('Średnia odległość od centrum miasta w Warszawie (2023)')\n",
    "plt.xlabel('Longitude')\n",
    "plt.ylabel('Latitude')\n",
    "plt.legend(loc='upper right')\n",
    "\n",
    "plt.show()\n"
   ]
  },
  {
   "cell_type": "markdown",
   "metadata": {
    "id": "HruI2aEobe8I"
   },
   "source": [
    "## 💡 Analiza danych"
   ]
  },
  {
   "cell_type": "markdown",
   "metadata": {
    "id": "uH37Jbenbkii"
   },
   "source": [
    "Podczas analizy danych do następnych etapów napotkalismy problem z dwoma pozycjami pokazanymi poniżej, gdzie dane miały niepoprawny wiek. Postanowiliśmy je pominąć ze względu na ogromną ilość pozycji, gdzie 2 obserwacje nie wpłyną na wnioski."
   ]
  },
  {
   "cell_type": "code",
   "execution_count": 22,
   "metadata": {
    "colab": {
     "base_uri": "https://localhost:8080/",
     "height": 1000
    },
    "executionInfo": {
     "elapsed": 84,
     "status": "ok",
     "timestamp": 1739098695396,
     "user": {
      "displayName": "Dawid Piotrkowski",
      "userId": "09085663674484212221"
     },
     "user_tz": -60
    },
    "id": "KrYNhzFCl1Fm",
    "outputId": "71abfcda-563a-41d9-e2b3-057fa0e5139e"
   },
   "outputs": [
    {
     "data": {
      "text/plain": [
       "Unnamed: 0             4345\n",
       "address       Targwek Mokra\n",
       "city               Warszawa\n",
       "floor                   8.0\n",
       "id                  16082.0\n",
       "latitude          52.231958\n",
       "longitude         21.006725\n",
       "price              520000.0\n",
       "rooms                   3.0\n",
       "sq                     56.0\n",
       "year                 2980.0\n",
       "na_metr         9285.714286\n",
       "Name: 4345, dtype: object"
      ]
     },
     "metadata": {},
     "output_type": "display_data"
    },
    {
     "data": {
      "text/plain": [
       "Unnamed: 0           13963\n",
       "address               Wola\n",
       "city              Warszawa\n",
       "floor                  1.0\n",
       "id                  6527.0\n",
       "latitude         52.236238\n",
       "longitude        20.954781\n",
       "price             499497.0\n",
       "rooms                  1.0\n",
       "sq                   31.29\n",
       "year                2024.0\n",
       "na_metr       15963.470757\n",
       "Name: 13963, dtype: object"
      ]
     },
     "metadata": {},
     "output_type": "display_data"
    },
    {
     "data": {
      "text/html": [
       "<div>\n",
       "<style scoped>\n",
       "    .dataframe tbody tr th:only-of-type {\n",
       "        vertical-align: middle;\n",
       "    }\n",
       "\n",
       "    .dataframe tbody tr th {\n",
       "        vertical-align: top;\n",
       "    }\n",
       "\n",
       "    .dataframe thead th {\n",
       "        text-align: right;\n",
       "    }\n",
       "</style>\n",
       "<table border=\"1\" class=\"dataframe\">\n",
       "  <thead>\n",
       "    <tr style=\"text-align: right;\">\n",
       "      <th></th>\n",
       "      <th>city</th>\n",
       "      <th>sq</th>\n",
       "      <th>price</th>\n",
       "      <th>year</th>\n",
       "    </tr>\n",
       "  </thead>\n",
       "  <tbody>\n",
       "    <tr>\n",
       "      <th>0</th>\n",
       "      <td>Kraków</td>\n",
       "      <td>74.05</td>\n",
       "      <td>749000.0</td>\n",
       "      <td>2021.0</td>\n",
       "    </tr>\n",
       "    <tr>\n",
       "      <th>1</th>\n",
       "      <td>Warszawa</td>\n",
       "      <td>24.38</td>\n",
       "      <td>240548.0</td>\n",
       "      <td>2021.0</td>\n",
       "    </tr>\n",
       "    <tr>\n",
       "      <th>2</th>\n",
       "      <td>Kraków</td>\n",
       "      <td>37.00</td>\n",
       "      <td>427000.0</td>\n",
       "      <td>1970.0</td>\n",
       "    </tr>\n",
       "    <tr>\n",
       "      <th>3</th>\n",
       "      <td>Poznań</td>\n",
       "      <td>166.00</td>\n",
       "      <td>1290000.0</td>\n",
       "      <td>1935.0</td>\n",
       "    </tr>\n",
       "    <tr>\n",
       "      <th>4</th>\n",
       "      <td>Warszawa</td>\n",
       "      <td>105.00</td>\n",
       "      <td>996000.0</td>\n",
       "      <td>2020.0</td>\n",
       "    </tr>\n",
       "    <tr>\n",
       "      <th>...</th>\n",
       "      <td>...</td>\n",
       "      <td>...</td>\n",
       "      <td>...</td>\n",
       "      <td>...</td>\n",
       "    </tr>\n",
       "    <tr>\n",
       "      <th>23759</th>\n",
       "      <td>Poznań</td>\n",
       "      <td>77.00</td>\n",
       "      <td>543000.0</td>\n",
       "      <td>2020.0</td>\n",
       "    </tr>\n",
       "    <tr>\n",
       "      <th>23760</th>\n",
       "      <td>Warszawa</td>\n",
       "      <td>71.00</td>\n",
       "      <td>910000.0</td>\n",
       "      <td>2017.0</td>\n",
       "    </tr>\n",
       "    <tr>\n",
       "      <th>23761</th>\n",
       "      <td>Poznań</td>\n",
       "      <td>50.67</td>\n",
       "      <td>430695.0</td>\n",
       "      <td>2022.0</td>\n",
       "    </tr>\n",
       "    <tr>\n",
       "      <th>23762</th>\n",
       "      <td>Kraków</td>\n",
       "      <td>38.86</td>\n",
       "      <td>359000.0</td>\n",
       "      <td>2021.0</td>\n",
       "    </tr>\n",
       "    <tr>\n",
       "      <th>23763</th>\n",
       "      <td>Warszawa</td>\n",
       "      <td>63.00</td>\n",
       "      <td>604800.0</td>\n",
       "      <td>1978.0</td>\n",
       "    </tr>\n",
       "  </tbody>\n",
       "</table>\n",
       "<p>23764 rows × 4 columns</p>\n",
       "</div>"
      ],
      "text/plain": [
       "           city      sq      price    year\n",
       "0        Kraków   74.05   749000.0  2021.0\n",
       "1      Warszawa   24.38   240548.0  2021.0\n",
       "2        Kraków   37.00   427000.0  1970.0\n",
       "3        Poznań  166.00  1290000.0  1935.0\n",
       "4      Warszawa  105.00   996000.0  2020.0\n",
       "...         ...     ...        ...     ...\n",
       "23759    Poznań   77.00   543000.0  2020.0\n",
       "23760  Warszawa   71.00   910000.0  2017.0\n",
       "23761    Poznań   50.67   430695.0  2022.0\n",
       "23762    Kraków   38.86   359000.0  2021.0\n",
       "23763  Warszawa   63.00   604800.0  1978.0\n",
       "\n",
       "[23764 rows x 4 columns]"
      ]
     },
     "execution_count": 22,
     "metadata": {},
     "output_type": "execute_result"
    }
   ],
   "source": [
    "#wybieram te pozycje które będą mi potrzebne. Wczesniej juz odsiewajac te pozycje\n",
    "#ktore dla ktorych wiek bylby niepoprawny\n",
    "dane=dane_mieszkania.loc[:,('city', 'sq','price','year')] #kopiuje moj df do nowego\n",
    "display(dane_mieszkania.loc[4345])\n",
    "display(dane_mieszkania.loc[13963])\n",
    "dane"
   ]
  },
  {
   "cell_type": "markdown",
   "metadata": {
    "id": "ZDc2OLiGcmrn"
   },
   "source": [
    "W tym momencie mając już pełne dane, zaczerpaliśmy z poprzedniego df kolumnę odległość. Nastepnie zbudowaliśmy nową kolumnę z cenami na metr kwadratowy oraz z wiekiem mieszkania mierzonym od 2023 roku. Ostatecznie stosujemy nas zwłasny współczynnik zgodnie z formułą sumy poniżej."
   ]
  },
  {
   "cell_type": "code",
   "execution_count": 23,
   "metadata": {
    "colab": {
     "base_uri": "https://localhost:8080/",
     "height": 423
    },
    "executionInfo": {
     "elapsed": 50,
     "status": "ok",
     "timestamp": 1739098695447,
     "user": {
      "displayName": "Dawid Piotrkowski",
      "userId": "09085663674484212221"
     },
     "user_tz": -60
    },
    "id": "vjsmvunfmBA3",
    "outputId": "94d57dbe-1e11-4fb7-c49e-c335c710cff4"
   },
   "outputs": [
    {
     "data": {
      "text/html": [
       "<div>\n",
       "<style scoped>\n",
       "    .dataframe tbody tr th:only-of-type {\n",
       "        vertical-align: middle;\n",
       "    }\n",
       "\n",
       "    .dataframe tbody tr th {\n",
       "        vertical-align: top;\n",
       "    }\n",
       "\n",
       "    .dataframe thead th {\n",
       "        text-align: right;\n",
       "    }\n",
       "</style>\n",
       "<table border=\"1\" class=\"dataframe\">\n",
       "  <thead>\n",
       "    <tr style=\"text-align: right;\">\n",
       "      <th></th>\n",
       "      <th>city</th>\n",
       "      <th>sq</th>\n",
       "      <th>price</th>\n",
       "      <th>year</th>\n",
       "      <th>odleglosc_km</th>\n",
       "      <th>na_metr</th>\n",
       "      <th>wiek</th>\n",
       "      <th>wspolczynnik</th>\n",
       "    </tr>\n",
       "  </thead>\n",
       "  <tbody>\n",
       "    <tr>\n",
       "      <th>0</th>\n",
       "      <td>Kraków</td>\n",
       "      <td>74.05</td>\n",
       "      <td>749000.0</td>\n",
       "      <td>2021.0</td>\n",
       "      <td>4.251167</td>\n",
       "      <td>10114.787306</td>\n",
       "      <td>2.0</td>\n",
       "      <td>10.739904</td>\n",
       "    </tr>\n",
       "    <tr>\n",
       "      <th>1</th>\n",
       "      <td>Warszawa</td>\n",
       "      <td>24.38</td>\n",
       "      <td>240548.0</td>\n",
       "      <td>2021.0</td>\n",
       "      <td>11.237233</td>\n",
       "      <td>9866.611977</td>\n",
       "      <td>2.0</td>\n",
       "      <td>11.190335</td>\n",
       "    </tr>\n",
       "    <tr>\n",
       "      <th>2</th>\n",
       "      <td>Kraków</td>\n",
       "      <td>37.00</td>\n",
       "      <td>427000.0</td>\n",
       "      <td>1970.0</td>\n",
       "      <td>2.144658</td>\n",
       "      <td>11540.540541</td>\n",
       "      <td>53.0</td>\n",
       "      <td>17.055006</td>\n",
       "    </tr>\n",
       "    <tr>\n",
       "      <th>3</th>\n",
       "      <td>Poznań</td>\n",
       "      <td>166.00</td>\n",
       "      <td>1290000.0</td>\n",
       "      <td>1935.0</td>\n",
       "      <td>5.327393</td>\n",
       "      <td>7771.084337</td>\n",
       "      <td>88.0</td>\n",
       "      <td>17.103824</td>\n",
       "    </tr>\n",
       "    <tr>\n",
       "      <th>4</th>\n",
       "      <td>Warszawa</td>\n",
       "      <td>105.00</td>\n",
       "      <td>996000.0</td>\n",
       "      <td>2020.0</td>\n",
       "      <td>5.376739</td>\n",
       "      <td>9485.714286</td>\n",
       "      <td>3.0</td>\n",
       "      <td>10.323388</td>\n",
       "    </tr>\n",
       "    <tr>\n",
       "      <th>...</th>\n",
       "      <td>...</td>\n",
       "      <td>...</td>\n",
       "      <td>...</td>\n",
       "      <td>...</td>\n",
       "      <td>...</td>\n",
       "      <td>...</td>\n",
       "      <td>...</td>\n",
       "      <td>...</td>\n",
       "    </tr>\n",
       "    <tr>\n",
       "      <th>23759</th>\n",
       "      <td>Poznań</td>\n",
       "      <td>77.00</td>\n",
       "      <td>543000.0</td>\n",
       "      <td>2020.0</td>\n",
       "      <td>7.497109</td>\n",
       "      <td>7051.948052</td>\n",
       "      <td>3.0</td>\n",
       "      <td>8.101659</td>\n",
       "    </tr>\n",
       "    <tr>\n",
       "      <th>23760</th>\n",
       "      <td>Warszawa</td>\n",
       "      <td>71.00</td>\n",
       "      <td>910000.0</td>\n",
       "      <td>2017.0</td>\n",
       "      <td>10.604299</td>\n",
       "      <td>12816.901408</td>\n",
       "      <td>6.0</td>\n",
       "      <td>14.477331</td>\n",
       "    </tr>\n",
       "    <tr>\n",
       "      <th>23761</th>\n",
       "      <td>Poznań</td>\n",
       "      <td>50.67</td>\n",
       "      <td>430695.0</td>\n",
       "      <td>2022.0</td>\n",
       "      <td>4.351584</td>\n",
       "      <td>8500.000000</td>\n",
       "      <td>1.0</td>\n",
       "      <td>9.035158</td>\n",
       "    </tr>\n",
       "    <tr>\n",
       "      <th>23762</th>\n",
       "      <td>Kraków</td>\n",
       "      <td>38.86</td>\n",
       "      <td>359000.0</td>\n",
       "      <td>2021.0</td>\n",
       "      <td>6.904513</td>\n",
       "      <td>9238.291302</td>\n",
       "      <td>2.0</td>\n",
       "      <td>10.128743</td>\n",
       "    </tr>\n",
       "    <tr>\n",
       "      <th>23763</th>\n",
       "      <td>Warszawa</td>\n",
       "      <td>63.00</td>\n",
       "      <td>604800.0</td>\n",
       "      <td>1978.0</td>\n",
       "      <td>16.321653</td>\n",
       "      <td>9600.000000</td>\n",
       "      <td>45.0</td>\n",
       "      <td>15.732165</td>\n",
       "    </tr>\n",
       "  </tbody>\n",
       "</table>\n",
       "<p>23762 rows × 8 columns</p>\n",
       "</div>"
      ],
      "text/plain": [
       "           city      sq      price    year  odleglosc_km       na_metr  wiek  \\\n",
       "0        Kraków   74.05   749000.0  2021.0      4.251167  10114.787306   2.0   \n",
       "1      Warszawa   24.38   240548.0  2021.0     11.237233   9866.611977   2.0   \n",
       "2        Kraków   37.00   427000.0  1970.0      2.144658  11540.540541  53.0   \n",
       "3        Poznań  166.00  1290000.0  1935.0      5.327393   7771.084337  88.0   \n",
       "4      Warszawa  105.00   996000.0  2020.0      5.376739   9485.714286   3.0   \n",
       "...         ...     ...        ...     ...           ...           ...   ...   \n",
       "23759    Poznań   77.00   543000.0  2020.0      7.497109   7051.948052   3.0   \n",
       "23760  Warszawa   71.00   910000.0  2017.0     10.604299  12816.901408   6.0   \n",
       "23761    Poznań   50.67   430695.0  2022.0      4.351584   8500.000000   1.0   \n",
       "23762    Kraków   38.86   359000.0  2021.0      6.904513   9238.291302   2.0   \n",
       "23763  Warszawa   63.00   604800.0  1978.0     16.321653   9600.000000  45.0   \n",
       "\n",
       "       wspolczynnik  \n",
       "0         10.739904  \n",
       "1         11.190335  \n",
       "2         17.055006  \n",
       "3         17.103824  \n",
       "4         10.323388  \n",
       "...             ...  \n",
       "23759      8.101659  \n",
       "23760     14.477331  \n",
       "23761      9.035158  \n",
       "23762     10.128743  \n",
       "23763     15.732165  \n",
       "\n",
       "[23762 rows x 8 columns]"
      ]
     },
     "execution_count": 23,
     "metadata": {},
     "output_type": "execute_result"
    }
   ],
   "source": [
    "dane['odleglosc_km'] = gdf_mieszkania['odleglosc']\n",
    "dane['na_metr']=dane['price']/dane['sq']\n",
    "dane['wiek']=2023 - dane['year']\n",
    "\n",
    "dane['wspolczynnik']=0.1*dane['wiek']+0.001*dane['na_metr']+0.1*dane['odleglosc_km']\n",
    "dane=dane[dane['wiek']>=0]\n",
    "dane"
   ]
  },
  {
   "cell_type": "markdown",
   "metadata": {
    "id": "Y_ScjU8YdoIU"
   },
   "source": [
    "W tym momencie mamy wszystkie dne potrzebne do analizy. Upewniamy sie najpierw czy na pewno nie ma w df danych o ujemnym wieku. Tworzymy nowy dataframe do wykresu i wyswietlam jego zawartosc.\n"
   ]
  },
  {
   "cell_type": "code",
   "execution_count": 24,
   "metadata": {
    "colab": {
     "base_uri": "https://localhost:8080/",
     "height": 263
    },
    "executionInfo": {
     "elapsed": 98,
     "status": "ok",
     "timestamp": 1739098695547,
     "user": {
      "displayName": "Dawid Piotrkowski",
      "userId": "09085663674484212221"
     },
     "user_tz": -60
    },
    "id": "oqcV2leKnfpP",
    "outputId": "413dd577-61d2-480e-ce3b-6ead84e20ea7"
   },
   "outputs": [
    {
     "name": "stdout",
     "output_type": "stream",
     "text": [
      "0\n"
     ]
    },
    {
     "data": {
      "text/html": [
       "<div>\n",
       "<style scoped>\n",
       "    .dataframe tbody tr th:only-of-type {\n",
       "        vertical-align: middle;\n",
       "    }\n",
       "\n",
       "    .dataframe tbody tr th {\n",
       "        vertical-align: top;\n",
       "    }\n",
       "\n",
       "    .dataframe thead th {\n",
       "        text-align: right;\n",
       "    }\n",
       "</style>\n",
       "<table border=\"1\" class=\"dataframe\">\n",
       "  <thead>\n",
       "    <tr style=\"text-align: right;\">\n",
       "      <th></th>\n",
       "      <th>city</th>\n",
       "      <th>sq</th>\n",
       "      <th>price</th>\n",
       "      <th>year</th>\n",
       "      <th>odleglosc_km</th>\n",
       "      <th>na_metr</th>\n",
       "      <th>wiek</th>\n",
       "      <th>wspolczynnik</th>\n",
       "    </tr>\n",
       "  </thead>\n",
       "  <tbody>\n",
       "  </tbody>\n",
       "</table>\n",
       "</div>"
      ],
      "text/plain": [
       "Empty DataFrame\n",
       "Columns: [city, sq, price, year, odleglosc_km, na_metr, wiek, wspolczynnik]\n",
       "Index: []"
      ]
     },
     "metadata": {},
     "output_type": "display_data"
    },
    {
     "data": {
      "text/plain": [
       "city\n",
       "Kraków      13.366462\n",
       "Poznań      10.589445\n",
       "Warszawa    15.989094\n",
       "Name: wspolczynnik, dtype: float64"
      ]
     },
     "execution_count": 24,
     "metadata": {},
     "output_type": "execute_result"
    }
   ],
   "source": [
    "print(len(dane[dane['wiek']<0]))\n",
    "dane.loc[dane.wspolczynnik<0, \"wspolczynnik\"]=0\n",
    "display(dane.loc[dane.wiek<0])\n",
    "new_data=dane.groupby(['city'])['wspolczynnik'].mean() #nowy df do wykresu\n",
    "new_data\n"
   ]
  },
  {
   "cell_type": "markdown",
   "metadata": {
    "id": "LbbzaFOGeCMn"
   },
   "source": [
    "Ponizej widoczny jest wykres średniego współczynnika dla 3 miast."
   ]
  },
  {
   "cell_type": "code",
   "execution_count": 25,
   "metadata": {
    "colab": {
     "base_uri": "https://localhost:8080/",
     "height": 598
    },
    "executionInfo": {
     "elapsed": 97,
     "status": "ok",
     "timestamp": 1739098695653,
     "user": {
      "displayName": "Dawid Piotrkowski",
      "userId": "09085663674484212221"
     },
     "user_tz": -60
    },
    "id": "6Kg304-Znm_P",
    "outputId": "d9ed715a-c7c7-4089-da96-ce200a81c872"
   },
   "outputs": [
    {
     "data": {
      "image/png": "[encoded data removed]",
      "text/plain": [
       "<Figure size 600x600 with 1 Axes>"
      ]
     },
     "metadata": {},
     "output_type": "display_data"
    }
   ],
   "source": [
    "ax=new_data.plot(kind=\"bar\", figsize=(6,6), color=\"mediumpurple\", xlabel=\"Miasto\", ylabel=\"Średni współczynnik\")"
   ]
  },
  {
   "cell_type": "code",
   "execution_count": 26,
   "metadata": {
    "colab": {
     "base_uri": "https://localhost:8080/",
     "height": 143
    },
    "executionInfo": {
     "elapsed": 25,
     "status": "ok",
     "timestamp": 1739098695691,
     "user": {
      "displayName": "Dawid Piotrkowski",
      "userId": "09085663674484212221"
     },
     "user_tz": -60
    },
    "id": "mSBPkO57nzN2",
    "outputId": "d242b09f-a37f-411d-ed76-ced35e4080eb"
   },
   "outputs": [
    {
     "data": {
      "text/html": [
       "<div>\n",
       "<style scoped>\n",
       "    .dataframe tbody tr th:only-of-type {\n",
       "        vertical-align: middle;\n",
       "    }\n",
       "\n",
       "    .dataframe tbody tr th {\n",
       "        vertical-align: top;\n",
       "    }\n",
       "\n",
       "    .dataframe thead th {\n",
       "        text-align: right;\n",
       "    }\n",
       "</style>\n",
       "<table border=\"1\" class=\"dataframe\">\n",
       "  <thead>\n",
       "    <tr style=\"text-align: right;\">\n",
       "      <th></th>\n",
       "      <th>city</th>\n",
       "      <th>Q1</th>\n",
       "      <th>Q2</th>\n",
       "      <th>Q3</th>\n",
       "      <th>Q4</th>\n",
       "      <th>Q5</th>\n",
       "      <th>Q6</th>\n",
       "      <th>Q7</th>\n",
       "      <th>Q8</th>\n",
       "      <th>Q9</th>\n",
       "      <th>Q10</th>\n",
       "      <th>procentowy_udzial_nizszych</th>\n",
       "    </tr>\n",
       "  </thead>\n",
       "  <tbody>\n",
       "    <tr>\n",
       "      <th>0</th>\n",
       "      <td>Kraków</td>\n",
       "      <td>6</td>\n",
       "      <td>49</td>\n",
       "      <td>849</td>\n",
       "      <td>2853</td>\n",
       "      <td>2219</td>\n",
       "      <td>1515</td>\n",
       "      <td>932</td>\n",
       "      <td>411</td>\n",
       "      <td>244</td>\n",
       "      <td>686</td>\n",
       "      <td>61.204424</td>\n",
       "    </tr>\n",
       "    <tr>\n",
       "      <th>1</th>\n",
       "      <td>Poznań</td>\n",
       "      <td>5</td>\n",
       "      <td>53</td>\n",
       "      <td>1744</td>\n",
       "      <td>1232</td>\n",
       "      <td>518</td>\n",
       "      <td>215</td>\n",
       "      <td>92</td>\n",
       "      <td>88</td>\n",
       "      <td>141</td>\n",
       "      <td>61</td>\n",
       "      <td>85.610991</td>\n",
       "    </tr>\n",
       "    <tr>\n",
       "      <th>2</th>\n",
       "      <td>Warszawa</td>\n",
       "      <td>2</td>\n",
       "      <td>13</td>\n",
       "      <td>223</td>\n",
       "      <td>896</td>\n",
       "      <td>1572</td>\n",
       "      <td>2246</td>\n",
       "      <td>1974</td>\n",
       "      <td>1122</td>\n",
       "      <td>710</td>\n",
       "      <td>1091</td>\n",
       "      <td>27.474871</td>\n",
       "    </tr>\n",
       "  </tbody>\n",
       "</table>\n",
       "</div>"
      ],
      "text/plain": [
       "       city  Q1  Q2    Q3    Q4    Q5    Q6    Q7    Q8   Q9   Q10  \\\n",
       "0    Kraków   6  49   849  2853  2219  1515   932   411  244   686   \n",
       "1    Poznań   5  53  1744  1232   518   215    92    88  141    61   \n",
       "2  Warszawa   2  13   223   896  1572  2246  1974  1122  710  1091   \n",
       "\n",
       "   procentowy_udzial_nizszych  \n",
       "0                   61.204424  \n",
       "1                   85.610991  \n",
       "2                   27.474871  "
      ]
     },
     "execution_count": 26,
     "metadata": {},
     "output_type": "execute_result"
    }
   ],
   "source": [
    "#w tej partii kodu dziele df na nowy zaweirajacy pewien podzial\n",
    "#ofert wedlug 10 grup, oscylujacych wokol sredniej dla przedzialow co 3 jednostki\n",
    "podzial=dane.groupby(\"city\").apply(lambda x: pd.Series({\n",
    "    \"Q1\":(x[\"wspolczynnik\"]<5).sum(),\n",
    "    \"Q2\":((x[\"wspolczynnik\"]>=5)&(x[\"wspolczynnik\"]<7)).sum(),\n",
    "    \"Q3\":((x[\"wspolczynnik\"]>=7)&(x[\"wspolczynnik\"]<9)).sum(),\n",
    "    \"Q4\":((x[\"wspolczynnik\"]>=9)&(x[\"wspolczynnik\"]<11)).sum(),\n",
    "    \"Q5\":((x[\"wspolczynnik\"]>=11)&(x[\"wspolczynnik\"]<13)).sum(),\n",
    "    \"Q6\":((x[\"wspolczynnik\"]>=13)&(x[\"wspolczynnik\"]<15)).sum(),\n",
    "    \"Q7\":((x[\"wspolczynnik\"]>=15)&(x[\"wspolczynnik\"]<17)).sum(),\n",
    "    \"Q8\":((x[\"wspolczynnik\"]>=17)&(x[\"wspolczynnik\"]<19)).sum(),\n",
    "    \"Q9\":((x[\"wspolczynnik\"]>=19)&(x[\"wspolczynnik\"]<21)).sum(),\n",
    "    \"Q10\":(x[\"wspolczynnik\"]>=21).sum()\n",
    "}),include_groups=False)\n",
    "podzial\n",
    "columns_1=['Q1','Q2','Q3','Q4','Q5']\n",
    "podzial2=podzial.copy()\n",
    "#sprawdzamy tutaj procentowy udzial tych ofert, które są mniej więcej poniżej średniej (<13)\n",
    "podzial2['procentowy_udzial_nizszych']=100*(podzial2[columns_1].sum(axis=1)/podzial2.loc[:,podzial2.columns].sum(axis=1))\n",
    "podzial2=podzial2.reset_index()\n",
    "podzial2"
   ]
  },
  {
   "cell_type": "markdown",
   "metadata": {
    "id": "CLhdW3jie0ft"
   },
   "source": [
    "Kolejny wykres przedstawi nam jak ten podział wygląda w liczbach bezwzględnych."
   ]
  },
  {
   "cell_type": "code",
   "execution_count": 27,
   "metadata": {
    "colab": {
     "base_uri": "https://localhost:8080/",
     "height": 656
    },
    "executionInfo": {
     "elapsed": 172,
     "status": "ok",
     "timestamp": 1739098695864,
     "user": {
      "displayName": "Dawid Piotrkowski",
      "userId": "09085663674484212221"
     },
     "user_tz": -60
    },
    "id": "KGOZhBvYoEPf",
    "outputId": "6476fc61-74f9-46e1-bcc9-61031d46c5aa"
   },
   "outputs": [
    {
     "data": {
      "image/png": "[encoded data removed]",
      "text/plain": [
       "<Figure size 1000x700 with 1 Axes>"
      ]
     },
     "metadata": {},
     "output_type": "display_data"
    }
   ],
   "source": [
    "bx=podzial.plot(kind=\"bar\", figsize=(10,7), colormap='copper') #colormap nadaje gradient do wykresu by ułatwić jego czytelność\n",
    "plt.xlabel('')\n",
    "plt.ylabel('Ilosci mieszkań w poszczególnych kategoriach współczynnika', fontweight='bold') #zmiana czcionki\n",
    "bx.spines[['top','right']].set_visible(False) #wylaczamy ramki: gorna i prawą"
   ]
  },
  {
   "cell_type": "markdown",
   "metadata": {
    "id": "R752YN6UfOuB"
   },
   "source": [
    "Kolejnym elementem analizy było zobrazowanie wczesniej policzonego procentowego udziału ofert 'korzystnych'"
   ]
  },
  {
   "cell_type": "code",
   "execution_count": 28,
   "metadata": {
    "colab": {
     "base_uri": "https://localhost:8080/",
     "height": 637
    },
    "executionInfo": {
     "elapsed": 68,
     "status": "ok",
     "timestamp": 1739098695934,
     "user": {
      "displayName": "Dawid Piotrkowski",
      "userId": "09085663674484212221"
     },
     "user_tz": -60
    },
    "id": "W3U5EeNLn4Ea",
    "outputId": "872f196a-cec1-46fe-c090-0f9b7131c0f5"
   },
   "outputs": [
    {
     "data": {
      "text/plain": [
       "Text(0, 0.5, 'Miasta')"
      ]
     },
     "execution_count": 28,
     "metadata": {},
     "output_type": "execute_result"
    },
    {
     "data": {
      "image/png": "[encoded data removed]",
      "text/plain": [
       "<Figure size 800x700 with 1 Axes>"
      ]
     },
     "metadata": {},
     "output_type": "display_data"
    }
   ],
   "source": [
    "podzial3=podzial2[['city','procentowy_udzial_nizszych',]]\n",
    "podzial3=podzial3.set_index('city')\n",
    "podzial3\n",
    "\n",
    "cx=podzial3.plot(kind=\"barh\", figsize=(8,7), width=0.4, color='cyan')\n",
    "plt.xlabel('Procentowy udzial lepszych ofert (o wspolczynniku <13)', fontweight='bold')\n",
    "plt.ylabel('Miasta', fontweight='bold')\n"
   ]
  },
  {
   "cell_type": "markdown",
   "metadata": {
    "id": "D3E-d2biff_H"
   },
   "source": [
    "Choć analiza danych na liczbach bezwzględnych daje dobry obraz sytuacji, postanowiliśmy ująć podziały grup w sposób procentowy, co bardziej reprezentatywnie przedstawi zawartość (udział) poszczegołnej grupy bez względu na efekt skali dla wielkości miasta (w Warszawie ofert jest po prostu wiecej niz w Poznaniu)"
   ]
  },
  {
   "cell_type": "code",
   "execution_count": 29,
   "metadata": {
    "colab": {
     "base_uri": "https://localhost:8080/",
     "height": 210
    },
    "executionInfo": {
     "elapsed": 35,
     "status": "ok",
     "timestamp": 1739098695936,
     "user": {
      "displayName": "Dawid Piotrkowski",
      "userId": "09085663674484212221"
     },
     "user_tz": -60
    },
    "id": "-tcavOQSoNqx",
    "outputId": "dfd207a4-2da4-458a-a44b-0d3b5dc80ebd"
   },
   "outputs": [
    {
     "data": {
      "text/html": [
       "<div>\n",
       "<style scoped>\n",
       "    .dataframe tbody tr th:only-of-type {\n",
       "        vertical-align: middle;\n",
       "    }\n",
       "\n",
       "    .dataframe tbody tr th {\n",
       "        vertical-align: top;\n",
       "    }\n",
       "\n",
       "    .dataframe thead th {\n",
       "        text-align: right;\n",
       "    }\n",
       "</style>\n",
       "<table border=\"1\" class=\"dataframe\">\n",
       "  <thead>\n",
       "    <tr style=\"text-align: right;\">\n",
       "      <th></th>\n",
       "      <th>Q1</th>\n",
       "      <th>Q2</th>\n",
       "      <th>Q3</th>\n",
       "      <th>Q4</th>\n",
       "      <th>Q5</th>\n",
       "      <th>Q6</th>\n",
       "      <th>Q7</th>\n",
       "      <th>Q8</th>\n",
       "      <th>Q9</th>\n",
       "      <th>Q10</th>\n",
       "      <th>suma</th>\n",
       "    </tr>\n",
       "    <tr>\n",
       "      <th>city</th>\n",
       "      <th></th>\n",
       "      <th></th>\n",
       "      <th></th>\n",
       "      <th></th>\n",
       "      <th></th>\n",
       "      <th></th>\n",
       "      <th></th>\n",
       "      <th></th>\n",
       "      <th></th>\n",
       "      <th></th>\n",
       "      <th></th>\n",
       "    </tr>\n",
       "  </thead>\n",
       "  <tbody>\n",
       "    <tr>\n",
       "      <th>Kraków</th>\n",
       "      <td>6</td>\n",
       "      <td>49</td>\n",
       "      <td>849</td>\n",
       "      <td>2853</td>\n",
       "      <td>2219</td>\n",
       "      <td>1515</td>\n",
       "      <td>932</td>\n",
       "      <td>411</td>\n",
       "      <td>244</td>\n",
       "      <td>686</td>\n",
       "      <td>9764</td>\n",
       "    </tr>\n",
       "    <tr>\n",
       "      <th>Poznań</th>\n",
       "      <td>5</td>\n",
       "      <td>53</td>\n",
       "      <td>1744</td>\n",
       "      <td>1232</td>\n",
       "      <td>518</td>\n",
       "      <td>215</td>\n",
       "      <td>92</td>\n",
       "      <td>88</td>\n",
       "      <td>141</td>\n",
       "      <td>61</td>\n",
       "      <td>4149</td>\n",
       "    </tr>\n",
       "    <tr>\n",
       "      <th>Warszawa</th>\n",
       "      <td>2</td>\n",
       "      <td>13</td>\n",
       "      <td>223</td>\n",
       "      <td>896</td>\n",
       "      <td>1572</td>\n",
       "      <td>2246</td>\n",
       "      <td>1974</td>\n",
       "      <td>1122</td>\n",
       "      <td>710</td>\n",
       "      <td>1091</td>\n",
       "      <td>9849</td>\n",
       "    </tr>\n",
       "  </tbody>\n",
       "</table>\n",
       "</div>"
      ],
      "text/plain": [
       "          Q1  Q2    Q3    Q4    Q5    Q6    Q7    Q8   Q9   Q10  suma\n",
       "city                                                                 \n",
       "Kraków     6  49   849  2853  2219  1515   932   411  244   686  9764\n",
       "Poznań     5  53  1744  1232   518   215    92    88  141    61  4149\n",
       "Warszawa   2  13   223   896  1572  2246  1974  1122  710  1091  9849"
      ]
     },
     "metadata": {},
     "output_type": "display_data"
    },
    {
     "name": "stdout",
     "output_type": "stream",
     "text": [
      "(3, 11)\n",
      "Index(['Q1', 'Q2', 'Q3', 'Q4', 'Q5', 'Q6', 'Q7', 'Q8', 'Q9', 'Q10', 'suma'], dtype='object')\n"
     ]
    }
   ],
   "source": [
    "naprocent=podzial2.copy() #kopiuje dataframe\n",
    "naprocent=naprocent.set_index('city') #ustawiam ndeks w postaci nazw miast (pomaga to w wykresie)\n",
    "naprocent = naprocent.drop(columns=['procentowy_udzial_nizszych']) #wyrzucamy z df kolumne o udziale procentowym\n",
    "naprocent['suma']=naprocent.sum(axis=1) #sumujemy wszystkie wystapienia w datafremie wzdluz wierszy\n",
    "display(naprocent)\n",
    "print(naprocent.shape) #sprawdzamy wyglad naszego DF\n",
    "print(naprocent.columns)"
   ]
  },
  {
   "cell_type": "code",
   "execution_count": 30,
   "metadata": {
    "colab": {
     "base_uri": "https://localhost:8080/",
     "height": 1000
    },
    "executionInfo": {
     "elapsed": 373,
     "status": "ok",
     "timestamp": 1739098696310,
     "user": {
      "displayName": "Dawid Piotrkowski",
      "userId": "09085663674484212221"
     },
     "user_tz": -60
    },
    "id": "mRx5hJ_tob2Q",
    "outputId": "06cfbe4f-9fbf-438c-f41b-adee7cb3cc02"
   },
   "outputs": [
    {
     "data": {
      "text/html": [
       "<div>\n",
       "<style scoped>\n",
       "    .dataframe tbody tr th:only-of-type {\n",
       "        vertical-align: middle;\n",
       "    }\n",
       "\n",
       "    .dataframe tbody tr th {\n",
       "        vertical-align: top;\n",
       "    }\n",
       "\n",
       "    .dataframe thead th {\n",
       "        text-align: right;\n",
       "    }\n",
       "</style>\n",
       "<table border=\"1\" class=\"dataframe\">\n",
       "  <thead>\n",
       "    <tr style=\"text-align: right;\">\n",
       "      <th></th>\n",
       "      <th>Q1</th>\n",
       "      <th>Q2</th>\n",
       "      <th>Q3</th>\n",
       "      <th>Q4</th>\n",
       "      <th>Q5</th>\n",
       "      <th>Q6</th>\n",
       "      <th>Q7</th>\n",
       "      <th>Q8</th>\n",
       "      <th>Q9</th>\n",
       "      <th>Q10</th>\n",
       "    </tr>\n",
       "    <tr>\n",
       "      <th>city</th>\n",
       "      <th></th>\n",
       "      <th></th>\n",
       "      <th></th>\n",
       "      <th></th>\n",
       "      <th></th>\n",
       "      <th></th>\n",
       "      <th></th>\n",
       "      <th></th>\n",
       "      <th></th>\n",
       "      <th></th>\n",
       "    </tr>\n",
       "  </thead>\n",
       "  <tbody>\n",
       "    <tr>\n",
       "      <th>Kraków</th>\n",
       "      <td>0.06</td>\n",
       "      <td>0.50</td>\n",
       "      <td>8.70</td>\n",
       "      <td>29.22</td>\n",
       "      <td>22.73</td>\n",
       "      <td>15.52</td>\n",
       "      <td>9.55</td>\n",
       "      <td>4.21</td>\n",
       "      <td>2.50</td>\n",
       "      <td>7.03</td>\n",
       "    </tr>\n",
       "    <tr>\n",
       "      <th>Poznań</th>\n",
       "      <td>0.12</td>\n",
       "      <td>1.28</td>\n",
       "      <td>42.03</td>\n",
       "      <td>29.69</td>\n",
       "      <td>12.48</td>\n",
       "      <td>5.18</td>\n",
       "      <td>2.22</td>\n",
       "      <td>2.12</td>\n",
       "      <td>3.40</td>\n",
       "      <td>1.47</td>\n",
       "    </tr>\n",
       "    <tr>\n",
       "      <th>Warszawa</th>\n",
       "      <td>0.02</td>\n",
       "      <td>0.13</td>\n",
       "      <td>2.26</td>\n",
       "      <td>9.10</td>\n",
       "      <td>15.96</td>\n",
       "      <td>22.80</td>\n",
       "      <td>20.04</td>\n",
       "      <td>11.39</td>\n",
       "      <td>7.21</td>\n",
       "      <td>11.08</td>\n",
       "    </tr>\n",
       "  </tbody>\n",
       "</table>\n",
       "</div>"
      ],
      "text/plain": [
       "            Q1    Q2     Q3     Q4     Q5     Q6     Q7     Q8    Q9    Q10\n",
       "city                                                                       \n",
       "Kraków    0.06  0.50   8.70  29.22  22.73  15.52   9.55   4.21  2.50   7.03\n",
       "Poznań    0.12  1.28  42.03  29.69  12.48   5.18   2.22   2.12  3.40   1.47\n",
       "Warszawa  0.02  0.13   2.26   9.10  15.96  22.80  20.04  11.39  7.21  11.08"
      ]
     },
     "metadata": {},
     "output_type": "display_data"
    },
    {
     "data": {
      "image/png": "[encoded data removed]",
      "text/plain": [
       "<Figure size 1200x1200 with 1 Axes>"
      ]
     },
     "metadata": {},
     "output_type": "display_data"
    }
   ],
   "source": [
    "do_wykresu=naprocent.copy()\n",
    "cols=do_wykresu.columns\n",
    "cols_1=['Q1', 'Q2', 'Q3', 'Q4', 'Q5', 'Q6', 'Q7', 'Q8', 'Q9', 'Q10',\n",
    "       'suma'] #tworze liste kolumn przez ktore chce by przeszla moja funkcja\n",
    "do_wykresu\n",
    "\n",
    "#za pomoca for przechodze po kolumnach i dokonuje pelnej zamiany na procent\n",
    "for col in cols_1:\n",
    "    do_wykresu[col]=((do_wykresu[col]/do_wykresu['suma'])*100).round(2)\n",
    "\n",
    "do_wykresu=do_wykresu.drop(columns=['suma']) #usuwam kolumne z suma\n",
    "display(do_wykresu)\n",
    "#wykres procentowy\n",
    "\n",
    "dx=do_wykresu.plot(kind=\"bar\", figsize=(12,12), colormap='copper')\n",
    "plt.xlabel('')\n",
    "plt.ylabel('Procentowy udział mieszkań z danej kategorii współczynnika w ilości ofert danego miasta', fontweight='bold')\n",
    "dx.spines[['top','right']].set_visible(False)"
   ]
  },
  {
   "cell_type": "code",
   "execution_count": null,
   "metadata": {
    "executionInfo": {
     "elapsed": 3,
     "status": "ok",
     "timestamp": 1739098696315,
     "user": {
      "displayName": "Dawid Piotrkowski",
      "userId": "09085663674484212221"
     },
     "user_tz": -60
    },
    "id": "cfiFdtVLohl_"
   },
   "outputs": [],
   "source": []
  }
 ],
 "metadata": {
  "colab": {
   "provenance": []
  },
  "kernelspec": {
   "display_name": "Python 3 (ipykernel)",
   "language": "python",
   "name": "python3"
  },
  "language_info": {
   "codemirror_mode": {
    "name": "ipython",
    "version": 3
   },
   "file_extension": ".py",
   "mimetype": "text/x-python",
   "name": "python",
   "nbconvert_exporter": "python",
   "pygments_lexer": "ipython3",
   "version": "3.13.2"
  }
 },
 "nbformat": 4,
 "nbformat_minor": 4
}
